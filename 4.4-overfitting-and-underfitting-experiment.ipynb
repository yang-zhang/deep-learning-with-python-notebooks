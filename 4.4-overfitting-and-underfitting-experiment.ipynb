{
 "cells": [
  {
   "cell_type": "code",
   "execution_count": 1,
   "metadata": {},
   "outputs": [
    {
     "name": "stderr",
     "output_type": "stream",
     "text": [
      "Using TensorFlow backend.\n"
     ]
    },
    {
     "data": {
      "text/plain": [
       "'2.1.2'"
      ]
     },
     "execution_count": 1,
     "metadata": {},
     "output_type": "execute_result"
    }
   ],
   "source": [
    "import keras\n",
    "keras.__version__"
   ]
  },
  {
   "cell_type": "markdown",
   "metadata": {},
   "source": [
    "# Overfitting and underfitting\n",
    "\n",
    "This notebook contains the code samples found in Chapter 3, Section 6 of [Deep Learning with Python](https://www.manning.com/books/deep-learning-with-python?a_aid=keras&a_bid=76564dff). Note that the original text features far more content, in particular further explanations and figures: in this notebook, you will only find source code and related comments.\n",
    "\n",
    "----\n",
    "\n",
    "\n",
    "In all the examples we saw in the previous chapter -- movie review sentiment prediction, topic classification, and house price regression -- \n",
    "we could notice that the performance of our model on the held-out validation data would always peak after a few epochs and would then start \n",
    "degrading, i.e. our model would quickly start to _overfit_ to the training data. Overfitting happens in every single machine learning \n",
    "problem. Learning how to deal with overfitting is essential to mastering machine learning.\n",
    "\n",
    "The fundamental issue in machine learning is the tension between optimization and generalization. \"Optimization\" refers to the process of \n",
    "adjusting a model to get the best performance possible on the training data (the \"learning\" in \"machine learning\"), while \"generalization\" \n",
    "refers to how well the trained model would perform on data it has never seen before. The goal of the game is to get good generalization, of \n",
    "course, but you do not control generalization; you can only adjust the model based on its training data.\n",
    "\n",
    "At the beginning of training, optimization and generalization are correlated: the lower your loss on training data, the lower your loss on \n",
    "test data. While this is happening, your model is said to be _under-fit_: there is still progress to be made; the network hasn't yet \n",
    "modeled all relevant patterns in the training data. But after a certain number of iterations on the training data, generalization stops \n",
    "improving, validation metrics stall then start degrading: the model is then starting to over-fit, i.e. is it starting to learn patterns \n",
    "that are specific to the training data but that are misleading or irrelevant when it comes to new data.\n",
    "\n",
    "To prevent a model from learning misleading or irrelevant patterns found in the training data, _the best solution is of course to get \n",
    "more training data_. A model trained on more data will naturally generalize better. When that is no longer possible, the next best solution \n",
    "is to modulate the quantity of information that your model is allowed to store, or to add constraints on what information it is allowed to \n",
    "store. If a network can only afford to memorize a small number of patterns, the optimization process will force it to focus on the most \n",
    "prominent patterns, which have a better chance of generalizing well.\n",
    "\n",
    "The processing of fighting overfitting in this way is called _regularization_. Let's review some of the most common regularization \n",
    "techniques, and let's apply them in practice to improve our movie classification model from  the previous chapter."
   ]
  },
  {
   "cell_type": "markdown",
   "metadata": {},
   "source": [
    "Note: in this notebook we will be using the IMDB test set as our validation set. It doesn't matter in this context.\n",
    "\n",
    "Let's prepare the data using the code from Chapter 3, Section 5:"
   ]
  },
  {
   "cell_type": "code",
   "execution_count": 2,
   "metadata": {
    "collapsed": true
   },
   "outputs": [],
   "source": [
    "from keras.datasets import imdb\n",
    "import numpy as np\n",
    "\n",
    "(train_data, train_labels), (test_data, test_labels) = imdb.load_data(num_words=10000)\n",
    "\n",
    "def vectorize_sequences(sequences, dimension=10000):\n",
    "    # Create an all-zero matrix of shape (len(sequences), dimension)\n",
    "    results = np.zeros((len(sequences), dimension))\n",
    "    for i, sequence in enumerate(sequences):\n",
    "        results[i, sequence] = 1.  # set specific indices of results[i] to 1s\n",
    "    return results\n",
    "\n",
    "# Our vectorized training data\n",
    "x_train = vectorize_sequences(train_data)\n",
    "# Our vectorized test data\n",
    "x_test = vectorize_sequences(test_data)\n",
    "# Our vectorized labels\n",
    "y_train = np.asarray(train_labels).astype('float32')\n",
    "y_test = np.asarray(test_labels).astype('float32')"
   ]
  },
  {
   "cell_type": "markdown",
   "metadata": {},
   "source": [
    "# Fighting overfitting\n",
    "\n",
    "## Reducing the network's size\n",
    "\n",
    "\n",
    "The simplest way to prevent overfitting is to reduce the size of the model, i.e. the number of learnable parameters in the model (which is \n",
    "determined by the number of layers and the number of units per layer). In deep learning, the number of learnable parameters in a model is \n",
    "often referred to as the model's \"capacity\". Intuitively, a model with more parameters will have more \"memorization capacity\" and therefore \n",
    "will be able to easily learn a perfect dictionary-like mapping between training samples and their targets, a mapping without any \n",
    "generalization power. For instance, a model with 500,000 binary parameters could easily be made to learn the class of every digits in the \n",
    "MNIST training set: we would only need 10 binary parameters for each of the 50,000 digits. Such a model would be useless for classifying \n",
    "new digit samples. Always keep this in mind: deep learning models tend to be good at fitting to the training data, but the real challenge \n",
    "is generalization, not fitting.\n",
    "\n",
    "On the other hand, if the network has limited memorization resources, it will not be able to learn this mapping as easily, and thus, in \n",
    "order to minimize its loss, it will have to resort to learning compressed representations that have predictive power regarding the targets \n",
    "-- precisely the type of representations that we are interested in. At the same time, keep in mind that you should be using models that have \n",
    "enough parameters that they won't be underfitting: your model shouldn't be starved for memorization resources. There is a compromise to be \n",
    "found between \"too much capacity\" and \"not enough capacity\".\n",
    "\n",
    "Unfortunately, there is no magical formula to determine what the right number of layers is, or what the right size for each layer is. You \n",
    "will have to evaluate an array of different architectures (on your validation set, not on your test set, of course) in order to find the \n",
    "right model size for your data. The general workflow to find an appropriate model size is to start with relatively few layers and \n",
    "parameters, and start increasing the size of the layers or adding new layers until you see diminishing returns with regard to the \n",
    "validation loss.\n",
    "\n",
    "Let's try this on our movie review classification network. Our original network was as such:"
   ]
  },
  {
   "cell_type": "code",
   "execution_count": 3,
   "metadata": {},
   "outputs": [
    {
     "name": "stdout",
     "output_type": "stream",
     "text": [
      "WARNING:tensorflow:From /opt/conda/lib/python3.6/site-packages/keras/backend/tensorflow_backend.py:1349: calling reduce_mean (from tensorflow.python.ops.math_ops) with keep_dims is deprecated and will be removed in a future version.\n",
      "Instructions for updating:\n",
      "keep_dims is deprecated, use keepdims instead\n"
     ]
    }
   ],
   "source": [
    "from keras import models\n",
    "from keras import layers\n",
    "\n",
    "original_model = models.Sequential()\n",
    "original_model.add(layers.Dense(16, activation='relu', input_shape=(10000,)))\n",
    "original_model.add(layers.Dense(16, activation='relu'))\n",
    "original_model.add(layers.Dense(1, activation='sigmoid'))\n",
    "\n",
    "original_model.compile(optimizer='rmsprop',\n",
    "                       loss='binary_crossentropy',\n",
    "                       metrics=['acc'])"
   ]
  },
  {
   "cell_type": "markdown",
   "metadata": {},
   "source": [
    "Now let's try to replace it with this smaller network:"
   ]
  },
  {
   "cell_type": "code",
   "execution_count": 4,
   "metadata": {
    "collapsed": true
   },
   "outputs": [],
   "source": [
    "smaller_model = models.Sequential()\n",
    "smaller_model.add(layers.Dense(4, activation='relu', input_shape=(10000,)))\n",
    "smaller_model.add(layers.Dense(4, activation='relu'))\n",
    "smaller_model.add(layers.Dense(1, activation='sigmoid'))\n",
    "\n",
    "smaller_model.compile(optimizer='rmsprop',\n",
    "                      loss='binary_crossentropy',\n",
    "                      metrics=['acc'])"
   ]
  },
  {
   "cell_type": "markdown",
   "metadata": {},
   "source": [
    "\n",
    "Here's a comparison of the validation losses of the original network and the smaller network. The dots are the validation loss values of \n",
    "the smaller network, and the crosses are the initial network (remember: a lower validation loss signals a better model)."
   ]
  },
  {
   "cell_type": "code",
   "execution_count": 5,
   "metadata": {},
   "outputs": [
    {
     "name": "stdout",
     "output_type": "stream",
     "text": [
      "Train on 25000 samples, validate on 25000 samples\n",
      "Epoch 1/20\n",
      "25000/25000 [==============================] - 2s 92us/step - loss: 0.4442 - acc: 0.8248 - val_loss: 0.3286 - val_acc: 0.8839\n",
      "Epoch 2/20\n",
      "25000/25000 [==============================] - 2s 73us/step - loss: 0.2573 - acc: 0.9081 - val_loss: 0.2863 - val_acc: 0.8880\n",
      "Epoch 3/20\n",
      "25000/25000 [==============================] - 2s 73us/step - loss: 0.1991 - acc: 0.9293 - val_loss: 0.2822 - val_acc: 0.8886\n",
      "Epoch 4/20\n",
      "25000/25000 [==============================] - 2s 73us/step - loss: 0.1669 - acc: 0.9414 - val_loss: 0.2942 - val_acc: 0.8845\n",
      "Epoch 5/20\n",
      "25000/25000 [==============================] - 2s 73us/step - loss: 0.1440 - acc: 0.9495 - val_loss: 0.3117 - val_acc: 0.8806\n",
      "Epoch 6/20\n",
      "25000/25000 [==============================] - 2s 73us/step - loss: 0.1267 - acc: 0.9554 - val_loss: 0.3480 - val_acc: 0.8721\n",
      "Epoch 7/20\n",
      "25000/25000 [==============================] - 2s 73us/step - loss: 0.1119 - acc: 0.9617 - val_loss: 0.3586 - val_acc: 0.8734\n",
      "Epoch 8/20\n",
      "25000/25000 [==============================] - 2s 73us/step - loss: 0.0993 - acc: 0.9662 - val_loss: 0.3948 - val_acc: 0.8665\n",
      "Epoch 9/20\n",
      "25000/25000 [==============================] - 2s 73us/step - loss: 0.0859 - acc: 0.9714 - val_loss: 0.4305 - val_acc: 0.8615\n",
      "Epoch 10/20\n",
      "25000/25000 [==============================] - 2s 73us/step - loss: 0.0778 - acc: 0.9750 - val_loss: 0.4986 - val_acc: 0.8528\n",
      "Epoch 11/20\n",
      "25000/25000 [==============================] - 2s 73us/step - loss: 0.0704 - acc: 0.9772 - val_loss: 0.4859 - val_acc: 0.8590\n",
      "Epoch 12/20\n",
      "25000/25000 [==============================] - 2s 73us/step - loss: 0.0589 - acc: 0.9820 - val_loss: 0.5155 - val_acc: 0.8563\n",
      "Epoch 13/20\n",
      "25000/25000 [==============================] - 2s 73us/step - loss: 0.0535 - acc: 0.9833 - val_loss: 0.5324 - val_acc: 0.8581\n",
      "Epoch 14/20\n",
      "25000/25000 [==============================] - 2s 73us/step - loss: 0.0447 - acc: 0.9863 - val_loss: 0.6084 - val_acc: 0.8501\n",
      "Epoch 15/20\n",
      "25000/25000 [==============================] - 2s 74us/step - loss: 0.0410 - acc: 0.9877 - val_loss: 0.6015 - val_acc: 0.8562\n",
      "Epoch 16/20\n",
      "25000/25000 [==============================] - 2s 73us/step - loss: 0.0331 - acc: 0.9906 - val_loss: 0.6360 - val_acc: 0.8529\n",
      "Epoch 17/20\n",
      "25000/25000 [==============================] - 2s 73us/step - loss: 0.0275 - acc: 0.9924 - val_loss: 0.6824 - val_acc: 0.8505\n",
      "Epoch 18/20\n",
      "25000/25000 [==============================] - 2s 73us/step - loss: 0.0244 - acc: 0.9940 - val_loss: 0.8342 - val_acc: 0.8373\n",
      "Epoch 19/20\n",
      "25000/25000 [==============================] - 2s 73us/step - loss: 0.0187 - acc: 0.9956 - val_loss: 0.7506 - val_acc: 0.8497\n",
      "Epoch 20/20\n",
      "25000/25000 [==============================] - 2s 73us/step - loss: 0.0177 - acc: 0.9955 - val_loss: 0.9484 - val_acc: 0.8314\n"
     ]
    }
   ],
   "source": [
    "original_hist = original_model.fit(x_train, y_train,\n",
    "                                   epochs=20,\n",
    "                                   batch_size=512,\n",
    "                                   validation_data=(x_test, y_test))"
   ]
  },
  {
   "cell_type": "code",
   "execution_count": 6,
   "metadata": {},
   "outputs": [
    {
     "name": "stdout",
     "output_type": "stream",
     "text": [
      "Train on 25000 samples, validate on 25000 samples\n",
      "Epoch 1/20\n",
      "25000/25000 [==============================] - 2s 73us/step - loss: 0.5808 - acc: 0.7017 - val_loss: 0.5308 - val_acc: 0.7579\n",
      "Epoch 2/20\n",
      "25000/25000 [==============================] - 2s 66us/step - loss: 0.4844 - acc: 0.8460 - val_loss: 0.4871 - val_acc: 0.8304\n",
      "Epoch 3/20\n",
      "25000/25000 [==============================] - 2s 66us/step - loss: 0.4389 - acc: 0.8925 - val_loss: 0.4673 - val_acc: 0.8472\n",
      "Epoch 4/20\n",
      "25000/25000 [==============================] - 2s 66us/step - loss: 0.4076 - acc: 0.9154 - val_loss: 0.4528 - val_acc: 0.8657\n",
      "Epoch 5/20\n",
      "25000/25000 [==============================] - 2s 68us/step - loss: 0.3831 - acc: 0.9308 - val_loss: 0.4528 - val_acc: 0.8603\n",
      "Epoch 6/20\n",
      "25000/25000 [==============================] - 2s 67us/step - loss: 0.3618 - acc: 0.9414 - val_loss: 0.4446 - val_acc: 0.8701\n",
      "Epoch 7/20\n",
      "25000/25000 [==============================] - 2s 67us/step - loss: 0.3423 - acc: 0.9513 - val_loss: 0.4539 - val_acc: 0.8654\n",
      "Epoch 8/20\n",
      "25000/25000 [==============================] - 2s 67us/step - loss: 0.3262 - acc: 0.9562 - val_loss: 0.4558 - val_acc: 0.8658\n",
      "Epoch 9/20\n",
      "25000/25000 [==============================] - 2s 67us/step - loss: 0.3097 - acc: 0.9618 - val_loss: 0.4759 - val_acc: 0.8604\n",
      "Epoch 10/20\n",
      "25000/25000 [==============================] - 2s 67us/step - loss: 0.2959 - acc: 0.9649 - val_loss: 0.4810 - val_acc: 0.8597\n",
      "Epoch 11/20\n",
      "25000/25000 [==============================] - 2s 68us/step - loss: 0.2815 - acc: 0.9693 - val_loss: 0.4928 - val_acc: 0.8589\n",
      "Epoch 12/20\n",
      "25000/25000 [==============================] - 2s 66us/step - loss: 0.2686 - acc: 0.9723 - val_loss: 0.4843 - val_acc: 0.8622\n",
      "Epoch 13/20\n",
      "25000/25000 [==============================] - 2s 67us/step - loss: 0.2564 - acc: 0.9742 - val_loss: 0.5190 - val_acc: 0.8568\n",
      "Epoch 14/20\n",
      "25000/25000 [==============================] - 2s 66us/step - loss: 0.2451 - acc: 0.9765 - val_loss: 0.5374 - val_acc: 0.8570\n",
      "Epoch 15/20\n",
      "25000/25000 [==============================] - 2s 66us/step - loss: 0.2338 - acc: 0.9784 - val_loss: 0.5377 - val_acc: 0.8583\n",
      "Epoch 16/20\n",
      "25000/25000 [==============================] - 2s 66us/step - loss: 0.2235 - acc: 0.9799 - val_loss: 0.5877 - val_acc: 0.8530\n",
      "Epoch 17/20\n",
      "25000/25000 [==============================] - 2s 66us/step - loss: 0.2145 - acc: 0.9806 - val_loss: 0.5918 - val_acc: 0.8532\n",
      "Epoch 18/20\n",
      "25000/25000 [==============================] - 2s 67us/step - loss: 0.2047 - acc: 0.9825 - val_loss: 0.6120 - val_acc: 0.8526\n",
      "Epoch 19/20\n",
      "25000/25000 [==============================] - 2s 67us/step - loss: 0.1963 - acc: 0.9839 - val_loss: 0.5960 - val_acc: 0.8534\n",
      "Epoch 20/20\n",
      "25000/25000 [==============================] - 2s 67us/step - loss: 0.1883 - acc: 0.9841 - val_loss: 0.6679 - val_acc: 0.8491\n"
     ]
    }
   ],
   "source": [
    "smaller_model_hist = smaller_model.fit(x_train, y_train,\n",
    "                                       epochs=20,\n",
    "                                       batch_size=512,\n",
    "                                       validation_data=(x_test, y_test))"
   ]
  },
  {
   "cell_type": "code",
   "execution_count": 7,
   "metadata": {
    "collapsed": true
   },
   "outputs": [],
   "source": [
    "epochs = range(1, 21)\n",
    "original_val_loss = original_hist.history['val_loss']\n",
    "smaller_model_val_loss = smaller_model_hist.history['val_loss']"
   ]
  },
  {
   "cell_type": "code",
   "execution_count": 8,
   "metadata": {},
   "outputs": [
    {
     "data": {
      "image/png": "[encoded data removed]",
      "text/plain": [
       "<matplotlib.figure.Figure at 0x7fe7035bca90>"
      ]
     },
     "metadata": {},
     "output_type": "display_data"
    }
   ],
   "source": [
    "import matplotlib.pyplot as plt\n",
    "\n",
    "# b+ is for \"blue cross\"\n",
    "plt.plot(epochs, original_val_loss, 'b+', label='Original model')\n",
    "# \"bo\" is for \"blue dot\"\n",
    "plt.plot(epochs, smaller_model_val_loss, 'bo', label='Smaller model')\n",
    "plt.xlabel('Epochs')\n",
    "plt.ylabel('Validation loss')\n",
    "plt.legend()\n",
    "\n",
    "plt.show()"
   ]
  },
  {
   "cell_type": "markdown",
   "metadata": {},
   "source": [
    "\n",
    "As you can see, the smaller network starts overfitting later than the reference one (after 6 epochs rather than 4) and its performance \n",
    "degrades much more slowly once it starts overfitting.\n",
    "\n",
    "Now, for kicks, let's add to this benchmark a network that has much more capacity, far more than the problem would warrant:"
   ]
  },
  {
   "cell_type": "code",
   "execution_count": 9,
   "metadata": {
    "collapsed": true
   },
   "outputs": [],
   "source": [
    "bigger_model = models.Sequential()\n",
    "bigger_model.add(layers.Dense(512, activation='relu', input_shape=(10000,)))\n",
    "bigger_model.add(layers.Dense(512, activation='relu'))\n",
    "bigger_model.add(layers.Dense(1, activation='sigmoid'))\n",
    "\n",
    "bigger_model.compile(optimizer='rmsprop',\n",
    "                     loss='binary_crossentropy',\n",
    "                     metrics=['acc'])"
   ]
  },
  {
   "cell_type": "code",
   "execution_count": 10,
   "metadata": {},
   "outputs": [
    {
     "name": "stdout",
     "output_type": "stream",
     "text": [
      "Train on 25000 samples, validate on 25000 samples\n",
      "Epoch 1/20\n",
      "25000/25000 [==============================] - 11s 449us/step - loss: 0.4656 - acc: 0.7931 - val_loss: 0.2945 - val_acc: 0.8858\n",
      "Epoch 2/20\n",
      "25000/25000 [==============================] - 11s 436us/step - loss: 0.2231 - acc: 0.9132 - val_loss: 0.3193 - val_acc: 0.8672\n",
      "Epoch 3/20\n",
      "25000/25000 [==============================] - 11s 437us/step - loss: 0.1408 - acc: 0.9484 - val_loss: 0.3081 - val_acc: 0.8863\n",
      "Epoch 4/20\n",
      "25000/25000 [==============================] - 11s 437us/step - loss: 0.0689 - acc: 0.9791 - val_loss: 0.4219 - val_acc: 0.8824\n",
      "Epoch 5/20\n",
      "25000/25000 [==============================] - 11s 437us/step - loss: 0.0722 - acc: 0.9866 - val_loss: 0.4827 - val_acc: 0.8828\n",
      "Epoch 6/20\n",
      "25000/25000 [==============================] - 11s 437us/step - loss: 0.0485 - acc: 0.9894 - val_loss: 0.4560 - val_acc: 0.8830\n",
      "Epoch 7/20\n",
      "25000/25000 [==============================] - 11s 437us/step - loss: 0.0013 - acc: 1.0000 - val_loss: 0.6474 - val_acc: 0.8815\n",
      "Epoch 8/20\n",
      "25000/25000 [==============================] - 11s 436us/step - loss: 1.7662e-04 - acc: 1.0000 - val_loss: 0.8748 - val_acc: 0.8727\n",
      "Epoch 9/20\n",
      "25000/25000 [==============================] - 11s 436us/step - loss: 0.0840 - acc: 0.9887 - val_loss: 0.7563 - val_acc: 0.8784\n",
      "Epoch 10/20\n",
      "25000/25000 [==============================] - 11s 437us/step - loss: 7.2991e-04 - acc: 1.0000 - val_loss: 0.8299 - val_acc: 0.8790\n",
      "Epoch 11/20\n",
      "25000/25000 [==============================] - 11s 436us/step - loss: 0.1035 - acc: 0.9902 - val_loss: 0.9700 - val_acc: 0.8631\n",
      "Epoch 12/20\n",
      "25000/25000 [==============================] - 11s 436us/step - loss: 0.0042 - acc: 0.9992 - val_loss: 0.8046 - val_acc: 0.8758\n",
      "Epoch 13/20\n",
      "25000/25000 [==============================] - 11s 436us/step - loss: 6.8633e-04 - acc: 1.0000 - val_loss: 0.8930 - val_acc: 0.8780\n",
      "Epoch 14/20\n",
      "25000/25000 [==============================] - 11s 436us/step - loss: 6.4868e-04 - acc: 1.0000 - val_loss: 0.9850 - val_acc: 0.8765\n",
      "Epoch 15/20\n",
      "25000/25000 [==============================] - 11s 436us/step - loss: 6.4527e-04 - acc: 1.0000 - val_loss: 1.0580 - val_acc: 0.8766\n",
      "Epoch 16/20\n",
      "25000/25000 [==============================] - 11s 436us/step - loss: 0.1059 - acc: 0.9909 - val_loss: 1.1269 - val_acc: 0.8701\n",
      "Epoch 17/20\n",
      "25000/25000 [==============================] - 11s 437us/step - loss: 0.0306 - acc: 0.9950 - val_loss: 0.8852 - val_acc: 0.8717\n",
      "Epoch 18/20\n",
      "25000/25000 [==============================] - 11s 437us/step - loss: 6.8258e-04 - acc: 1.0000 - val_loss: 0.9046 - val_acc: 0.8742\n",
      "Epoch 19/20\n",
      "25000/25000 [==============================] - 11s 436us/step - loss: 6.4998e-04 - acc: 1.0000 - val_loss: 0.9626 - val_acc: 0.8743\n",
      "Epoch 20/20\n",
      "25000/25000 [==============================] - 11s 437us/step - loss: 6.4549e-04 - acc: 1.0000 - val_loss: 1.0164 - val_acc: 0.8759\n"
     ]
    }
   ],
   "source": [
    "bigger_model_hist = bigger_model.fit(x_train, y_train,\n",
    "                                     epochs=20,\n",
    "                                     batch_size=512,\n",
    "                                     validation_data=(x_test, y_test))"
   ]
  },
  {
   "cell_type": "markdown",
   "metadata": {},
   "source": [
    "Here's how the bigger network fares compared to the reference one. The dots are the validation loss values of the bigger network, and the \n",
    "crosses are the initial network."
   ]
  },
  {
   "cell_type": "code",
   "execution_count": 11,
   "metadata": {},
   "outputs": [
    {
     "data": {
      "image/png": "[encoded data removed]",
      "text/plain": [
       "<matplotlib.figure.Figure at 0x7fe6fe09b0b8>"
      ]
     },
     "metadata": {},
     "output_type": "display_data"
    }
   ],
   "source": [
    "bigger_model_val_loss = bigger_model_hist.history['val_loss']\n",
    "\n",
    "plt.plot(epochs, original_val_loss, 'b+', label='Original model')\n",
    "plt.plot(epochs, bigger_model_val_loss, 'bo', label='Bigger model')\n",
    "plt.xlabel('Epochs')\n",
    "plt.ylabel('Validation loss')\n",
    "plt.legend()\n",
    "\n",
    "plt.show()"
   ]
  },
  {
   "cell_type": "markdown",
   "metadata": {},
   "source": [
    "\n",
    "The bigger network starts overfitting almost right away, after just one epoch, and overfits much more severely. Its validation loss is also \n",
    "more noisy.\n",
    "\n",
    "Meanwhile, here are the training losses for our two networks:"
   ]
  },
  {
   "cell_type": "code",
   "execution_count": 12,
   "metadata": {},
   "outputs": [
    {
     "data": {
      "image/png": "[encoded data removed]",
      "text/plain": [
       "<matplotlib.figure.Figure at 0x7fe6fe0a0320>"
      ]
     },
     "metadata": {},
     "output_type": "display_data"
    }
   ],
   "source": [
    "original_train_loss = original_hist.history['loss']\n",
    "bigger_model_train_loss = bigger_model_hist.history['loss']\n",
    "\n",
    "plt.plot(epochs, original_train_loss, 'b+', label='Original model')\n",
    "plt.plot(epochs, bigger_model_train_loss, 'bo', label='Bigger model')\n",
    "plt.xlabel('Epochs')\n",
    "plt.ylabel('Training loss')\n",
    "plt.legend()\n",
    "\n",
    "plt.show()"
   ]
  },
  {
   "cell_type": "markdown",
   "metadata": {},
   "source": [
    "As you can see, the bigger network gets its training loss near zero very quickly. The more capacity the network has, the quicker it will be \n",
    "able to model the training data (resulting in a low training loss), but the more susceptible it is to overfitting (resulting in a large \n",
    "difference between the training and validation loss)."
   ]
  },
  {
   "cell_type": "markdown",
   "metadata": {},
   "source": [
    "## Adding weight regularization\n",
    "\n",
    "\n",
    "You may be familiar with _Occam's Razor_ principle: given two explanations for something, the explanation most likely to be correct is the \n",
    "\"simplest\" one, the one that makes the least amount of assumptions. This also applies to the models learned by neural networks: given some \n",
    "training data and a network architecture, there are multiple sets of weights values (multiple _models_) that could explain the data, and \n",
    "simpler models are less likely to overfit than complex ones.\n",
    "\n",
    "A \"simple model\" in this context is a model where the distribution of parameter values has less entropy (or a model with fewer \n",
    "parameters altogether, as we saw in the section above). Thus a common way to mitigate overfitting is to put constraints on the complexity \n",
    "of a network by forcing its weights to only take small values, which makes the distribution of weight values more \"regular\". This is called \n",
    "\"weight regularization\", and it is done by adding to the loss function of the network a _cost_ associated with having large weights. This \n",
    "cost comes in two flavors:\n",
    "\n",
    "* L1 regularization, where the cost added is proportional to the _absolute value of the weights coefficients_ (i.e. to what is called the \n",
    "\"L1 norm\" of the weights).\n",
    "* L2 regularization, where the cost added is proportional to the _square of the value of the weights coefficients_ (i.e. to what is called \n",
    "the \"L2 norm\" of the weights). L2 regularization is also called _weight decay_ in the context of neural networks. Don't let the different \n",
    "name confuse you: weight decay is mathematically the exact same as L2 regularization.\n",
    "\n",
    "In Keras, weight regularization is added by passing _weight regularizer instances_ to layers as keyword arguments. Let's add L2 weight \n",
    "regularization to our movie review classification network:"
   ]
  },
  {
   "cell_type": "code",
   "execution_count": 13,
   "metadata": {},
   "outputs": [
    {
     "name": "stdout",
     "output_type": "stream",
     "text": [
      "WARNING:tensorflow:From /opt/conda/lib/python3.6/site-packages/keras/backend/tensorflow_backend.py:1247: calling reduce_sum (from tensorflow.python.ops.math_ops) with keep_dims is deprecated and will be removed in a future version.\n",
      "Instructions for updating:\n",
      "keep_dims is deprecated, use keepdims instead\n"
     ]
    }
   ],
   "source": [
    "from keras import regularizers\n",
    "\n",
    "l2_model = models.Sequential()\n",
    "l2_model.add(layers.Dense(16, kernel_regularizer=regularizers.l2(0.001),\n",
    "                          activation='relu', input_shape=(10000,)))\n",
    "l2_model.add(layers.Dense(16, kernel_regularizer=regularizers.l2(0.001),\n",
    "                          activation='relu'))\n",
    "l2_model.add(layers.Dense(1, activation='sigmoid'))"
   ]
  },
  {
   "cell_type": "code",
   "execution_count": 14,
   "metadata": {
    "collapsed": true
   },
   "outputs": [],
   "source": [
    "l2_model.compile(optimizer='rmsprop',\n",
    "                 loss='binary_crossentropy',\n",
    "                 metrics=['acc'])"
   ]
  },
  {
   "cell_type": "markdown",
   "metadata": {},
   "source": [
    "`l2(0.001)` means that every coefficient in the weight matrix of the layer will add `0.001 * weight_coefficient_value` to the total loss of \n",
    "the network. Note that because this penalty is _only added at training time_, the loss for this network will be much higher at training \n",
    "than at test time.\n",
    "\n",
    "Here's the impact of our L2 regularization penalty:"
   ]
  },
  {
   "cell_type": "code",
   "execution_count": 15,
   "metadata": {},
   "outputs": [
    {
     "name": "stdout",
     "output_type": "stream",
     "text": [
      "Train on 25000 samples, validate on 25000 samples\n",
      "Epoch 1/20\n",
      "25000/25000 [==============================] - 2s 70us/step - loss: 0.4903 - acc: 0.8148 - val_loss: 0.3902 - val_acc: 0.8651\n",
      "Epoch 2/20\n",
      "25000/25000 [==============================] - 1s 58us/step - loss: 0.3107 - acc: 0.9057 - val_loss: 0.3305 - val_acc: 0.8893\n",
      "Epoch 3/20\n",
      "25000/25000 [==============================] - 1s 58us/step - loss: 0.2649 - acc: 0.9208 - val_loss: 0.3341 - val_acc: 0.8861\n",
      "Epoch 4/20\n",
      "25000/25000 [==============================] - 1s 58us/step - loss: 0.2452 - acc: 0.9287 - val_loss: 0.3413 - val_acc: 0.8819\n",
      "Epoch 5/20\n",
      "25000/25000 [==============================] - 1s 58us/step - loss: 0.2313 - acc: 0.9352 - val_loss: 0.3789 - val_acc: 0.8689\n",
      "Epoch 6/20\n",
      "25000/25000 [==============================] - 1s 58us/step - loss: 0.2226 - acc: 0.9390 - val_loss: 0.3658 - val_acc: 0.8756\n",
      "Epoch 7/20\n",
      "25000/25000 [==============================] - 1s 58us/step - loss: 0.2157 - acc: 0.9420 - val_loss: 0.3774 - val_acc: 0.8729\n",
      "Epoch 8/20\n",
      "25000/25000 [==============================] - 1s 58us/step - loss: 0.2089 - acc: 0.9451 - val_loss: 0.3737 - val_acc: 0.8751\n",
      "Epoch 9/20\n",
      "25000/25000 [==============================] - 1s 58us/step - loss: 0.2026 - acc: 0.9471 - val_loss: 0.3771 - val_acc: 0.8750\n",
      "Epoch 10/20\n",
      "25000/25000 [==============================] - 1s 58us/step - loss: 0.1987 - acc: 0.9508 - val_loss: 0.3823 - val_acc: 0.8750\n",
      "Epoch 11/20\n",
      "25000/25000 [==============================] - 1s 59us/step - loss: 0.1929 - acc: 0.9506 - val_loss: 0.3844 - val_acc: 0.8756\n",
      "Epoch 12/20\n",
      "25000/25000 [==============================] - 1s 58us/step - loss: 0.1898 - acc: 0.9527 - val_loss: 0.3973 - val_acc: 0.8725\n",
      "Epoch 13/20\n",
      "25000/25000 [==============================] - 1s 58us/step - loss: 0.1861 - acc: 0.9548 - val_loss: 0.3961 - val_acc: 0.8726\n",
      "Epoch 14/20\n",
      "25000/25000 [==============================] - 1s 58us/step - loss: 0.1798 - acc: 0.9576 - val_loss: 0.4313 - val_acc: 0.8637\n",
      "Epoch 15/20\n",
      "25000/25000 [==============================] - 1s 58us/step - loss: 0.1796 - acc: 0.9576 - val_loss: 0.4573 - val_acc: 0.8568\n",
      "Epoch 16/20\n",
      "25000/25000 [==============================] - 1s 58us/step - loss: 0.1739 - acc: 0.9599 - val_loss: 0.4373 - val_acc: 0.8658\n",
      "Epoch 17/20\n",
      "25000/25000 [==============================] - 1s 58us/step - loss: 0.1700 - acc: 0.9615 - val_loss: 0.4191 - val_acc: 0.8698\n",
      "Epoch 18/20\n",
      "25000/25000 [==============================] - 1s 58us/step - loss: 0.1674 - acc: 0.9622 - val_loss: 0.4428 - val_acc: 0.8661\n",
      "Epoch 19/20\n",
      "25000/25000 [==============================] - 1s 58us/step - loss: 0.1641 - acc: 0.9640 - val_loss: 0.4428 - val_acc: 0.8657\n",
      "Epoch 20/20\n",
      "25000/25000 [==============================] - 1s 58us/step - loss: 0.1607 - acc: 0.9653 - val_loss: 0.4299 - val_acc: 0.8677\n"
     ]
    }
   ],
   "source": [
    "l2_model_hist = l2_model.fit(x_train, y_train,\n",
    "                             epochs=20,\n",
    "                             batch_size=512,\n",
    "                             validation_data=(x_test, y_test))"
   ]
  },
  {
   "cell_type": "code",
   "execution_count": 16,
   "metadata": {},
   "outputs": [
    {
     "data": {
      "image/png": "[encoded data removed]",
      "text/plain": [
       "<matplotlib.figure.Figure at 0x7fe6fe031d68>"
      ]
     },
     "metadata": {},
     "output_type": "display_data"
    }
   ],
   "source": [
    "l2_model_val_loss = l2_model_hist.history['val_loss']\n",
    "\n",
    "plt.plot(epochs, original_val_loss, 'b+', label='Original model')\n",
    "plt.plot(epochs, l2_model_val_loss, 'bo', label='L2-regularized model')\n",
    "plt.xlabel('Epochs')\n",
    "plt.ylabel('Validation loss')\n",
    "plt.legend()\n",
    "\n",
    "plt.show()"
   ]
  },
  {
   "cell_type": "markdown",
   "metadata": {},
   "source": [
    "\n",
    "\n",
    "As you can see, the model with L2 regularization (dots) has become much more resistant to overfitting than the reference model (crosses), \n",
    "even though both models have the same number of parameters.\n",
    "\n",
    "As alternatives to L2 regularization, you could use one of the following Keras weight regularizers:"
   ]
  },
  {
   "cell_type": "code",
   "execution_count": 19,
   "metadata": {},
   "outputs": [
    {
     "data": {
      "text/plain": [
       "<keras.regularizers.L1L2 at 0x7fe703633048>"
      ]
     },
     "execution_count": 19,
     "metadata": {},
     "output_type": "execute_result"
    }
   ],
   "source": [
    "from keras import regularizers\n",
    "\n",
    "# L1 regularization\n",
    "regularizers.l1(0.001)\n",
    "\n",
    "# L1 and L2 regularization at the same time\n",
    "regularizers.l1_l2(l1=0.001, l2=0.001)"
   ]
  },
  {
   "cell_type": "markdown",
   "metadata": {},
   "source": [
    "## Adding dropout\n",
    "\n",
    "\n",
    "Dropout is one of the most effective and most commonly used regularization techniques for neural networks, developed by Hinton and his \n",
    "students at the University of Toronto. Dropout, applied to a layer, consists of randomly \"dropping out\" (i.e. setting to zero) a number of \n",
    "output features of the layer during training. Let's say a given layer would normally have returned a vector `[0.2, 0.5, 1.3, 0.8, 1.1]` for a \n",
    "given input sample during training; after applying dropout, this vector will have a few zero entries distributed at random, e.g. `[0, 0.5, \n",
    "1.3, 0, 1.1]`. The \"dropout rate\" is the fraction of the features that are being zeroed-out; it is usually set between 0.2 and 0.5. At test \n",
    "time, no units are dropped out, and instead the layer's output values are scaled down by a factor equal to the dropout rate, so as to \n",
    "balance for the fact that more units are active than at training time.\n",
    "\n",
    "Consider a Numpy matrix containing the output of a layer, `layer_output`, of shape `(batch_size, features)`. At training time, we would be \n",
    "zero-ing out at random a fraction of the values in the matrix:"
   ]
  },
  {
   "cell_type": "code",
   "execution_count": 41,
   "metadata": {},
   "outputs": [],
   "source": [
    "batch_size, features = 8, 5\n",
    "layer_output = np.random.randn(batch_size, features)\n",
    "\n",
    "# At training time: we drop out 50% of the units in the output\n",
    "layer_output *= np.random.randint(0, high=2, size=layer_output.shape)"
   ]
  },
  {
   "cell_type": "markdown",
   "metadata": {},
   "source": [
    "\n",
    "At test time, we would be scaling the output down by the dropout rate. Here we scale by 0.5 (because we were previous dropping half the \n",
    "units):"
   ]
  },
  {
   "cell_type": "code",
   "execution_count": 42,
   "metadata": {
    "collapsed": true
   },
   "outputs": [],
   "source": [
    "# At test time:\n",
    "layer_output *= 0.5"
   ]
  },
  {
   "cell_type": "markdown",
   "metadata": {},
   "source": [
    "\n",
    "Note that this process can be implemented by doing both operations at training time and leaving the output unchanged at test time, which is \n",
    "often the way it is implemented in practice:"
   ]
  },
  {
   "cell_type": "code",
   "execution_count": 37,
   "metadata": {},
   "outputs": [],
   "source": [
    "# At training time:\n",
    "layer_output *= np.random.randint(0, high=2, size=layer_output.shape)\n",
    "# Note that we are scaling *up* rather scaling *down* in this case\n",
    "layer_output /= 0.5"
   ]
  },
  {
   "cell_type": "markdown",
   "metadata": {},
   "source": [
    "\n",
    "This technique may seem strange and arbitrary. Why would this help reduce overfitting? Geoff Hinton has said that he was inspired, among \n",
    "other things, by a fraud prevention mechanism used by banks -- in his own words: _\"I went to my bank. The tellers kept changing and I asked \n",
    "one of them why. He said he didn’t know but they got moved around a lot. I figured it must be because it would require cooperation \n",
    "between employees to successfully defraud the bank. This made me realize that randomly removing a different subset of neurons on each \n",
    "example would prevent conspiracies and thus reduce overfitting\"_.\n",
    "\n",
    "The core idea is that introducing noise in the output values of a layer can break up happenstance patterns that are not significant (what \n",
    "Hinton refers to as \"conspiracies\"), which the network would start memorizing if no noise was present. \n",
    "\n",
    "In Keras you can introduce dropout in a network via the `Dropout` layer, which gets applied to the output of layer right before it, e.g.:"
   ]
  },
  {
   "cell_type": "code",
   "execution_count": 38,
   "metadata": {
    "collapsed": true
   },
   "outputs": [
    {
     "ename": "NameError",
     "evalue": "name 'model' is not defined",
     "output_type": "error",
     "traceback": [
      "\u001b[0;31m---------------------------------------------------------------------------\u001b[0m",
      "\u001b[0;31mNameError\u001b[0m                                 Traceback (most recent call last)",
      "\u001b[0;32m<ipython-input-38-dee10a97af3a>\u001b[0m in \u001b[0;36m<module>\u001b[0;34m()\u001b[0m\n\u001b[0;32m----> 1\u001b[0;31m \u001b[0mmodel\u001b[0m\u001b[0;34m.\u001b[0m\u001b[0madd\u001b[0m\u001b[0;34m(\u001b[0m\u001b[0mlayers\u001b[0m\u001b[0;34m.\u001b[0m\u001b[0mDropout\u001b[0m\u001b[0;34m(\u001b[0m\u001b[0;36m0.5\u001b[0m\u001b[0;34m)\u001b[0m\u001b[0;34m)\u001b[0m\u001b[0;34m\u001b[0m\u001b[0m\n\u001b[0m",
      "\u001b[0;31mNameError\u001b[0m: name 'model' is not defined"
     ]
    }
   ],
   "source": [
    "model.add(layers.Dropout(0.5))"
   ]
  },
  {
   "cell_type": "markdown",
   "metadata": {},
   "source": [
    "Let's add two `Dropout` layers in our IMDB network to see how well they do at reducing overfitting:"
   ]
  },
  {
   "cell_type": "code",
   "execution_count": 39,
   "metadata": {
    "collapsed": true
   },
   "outputs": [],
   "source": [
    "dpt_model = models.Sequential()\n",
    "dpt_model.add(layers.Dense(16, activation='relu', input_shape=(10000,)))\n",
    "dpt_model.add(layers.Dropout(0.5))\n",
    "dpt_model.add(layers.Dense(16, activation='relu'))\n",
    "dpt_model.add(layers.Dropout(0.5))\n",
    "dpt_model.add(layers.Dense(1, activation='sigmoid'))\n",
    "\n",
    "dpt_model.compile(optimizer='rmsprop',\n",
    "                  loss='binary_crossentropy',\n",
    "                  metrics=['acc'])"
   ]
  },
  {
   "cell_type": "code",
   "execution_count": 40,
   "metadata": {
    "scrolled": true
   },
   "outputs": [
    {
     "name": "stdout",
     "output_type": "stream",
     "text": [
      "Train on 25000 samples, validate on 25000 samples\n",
      "Epoch 1/20\n",
      "25000/25000 [==============================] - 2s 88us/step - loss: 0.5919 - acc: 0.6739 - val_loss: 0.4412 - val_acc: 0.8662\n",
      "Epoch 2/20\n",
      "25000/25000 [==============================] - 2s 75us/step - loss: 0.4584 - acc: 0.7951 - val_loss: 0.3482 - val_acc: 0.8816\n",
      "Epoch 3/20\n",
      "25000/25000 [==============================] - 2s 75us/step - loss: 0.3725 - acc: 0.8509 - val_loss: 0.2956 - val_acc: 0.8864\n",
      "Epoch 4/20\n",
      "25000/25000 [==============================] - 2s 74us/step - loss: 0.3210 - acc: 0.8819 - val_loss: 0.2884 - val_acc: 0.8884\n",
      "Epoch 5/20\n",
      "25000/25000 [==============================] - 2s 74us/step - loss: 0.2798 - acc: 0.9041 - val_loss: 0.2771 - val_acc: 0.8913\n",
      "Epoch 6/20\n",
      "25000/25000 [==============================] - 2s 76us/step - loss: 0.2462 - acc: 0.9160 - val_loss: 0.2834 - val_acc: 0.8893\n",
      "Epoch 7/20\n",
      "25000/25000 [==============================] - 2s 75us/step - loss: 0.2225 - acc: 0.9268 - val_loss: 0.3068 - val_acc: 0.8864\n",
      "Epoch 8/20\n",
      "25000/25000 [==============================] - 2s 75us/step - loss: 0.2022 - acc: 0.9332 - val_loss: 0.3134 - val_acc: 0.8829\n",
      "Epoch 9/20\n",
      "25000/25000 [==============================] - 2s 75us/step - loss: 0.1872 - acc: 0.9365 - val_loss: 0.3545 - val_acc: 0.8834\n",
      "Epoch 10/20\n",
      "25000/25000 [==============================] - 2s 74us/step - loss: 0.1760 - acc: 0.9434 - val_loss: 0.3421 - val_acc: 0.8818\n",
      "Epoch 11/20\n",
      "25000/25000 [==============================] - 2s 75us/step - loss: 0.1563 - acc: 0.9483 - val_loss: 0.3733 - val_acc: 0.8816\n",
      "Epoch 12/20\n",
      "25000/25000 [==============================] - 2s 74us/step - loss: 0.1523 - acc: 0.9492 - val_loss: 0.3901 - val_acc: 0.8806\n",
      "Epoch 13/20\n",
      "25000/25000 [==============================] - 2s 74us/step - loss: 0.1451 - acc: 0.9519 - val_loss: 0.4050 - val_acc: 0.8790\n",
      "Epoch 14/20\n",
      "25000/25000 [==============================] - 2s 74us/step - loss: 0.1342 - acc: 0.9562 - val_loss: 0.4451 - val_acc: 0.8781\n",
      "Epoch 15/20\n",
      "25000/25000 [==============================] - 2s 75us/step - loss: 0.1345 - acc: 0.9554 - val_loss: 0.4640 - val_acc: 0.8777\n",
      "Epoch 16/20\n",
      "25000/25000 [==============================] - 2s 75us/step - loss: 0.1239 - acc: 0.9581 - val_loss: 0.4835 - val_acc: 0.8716\n",
      "Epoch 17/20\n",
      "25000/25000 [==============================] - 2s 74us/step - loss: 0.1257 - acc: 0.9587 - val_loss: 0.4936 - val_acc: 0.8758\n",
      "Epoch 18/20\n",
      "25000/25000 [==============================] - 2s 74us/step - loss: 0.1172 - acc: 0.9605 - val_loss: 0.4988 - val_acc: 0.8735\n",
      "Epoch 19/20\n",
      "25000/25000 [==============================] - 2s 74us/step - loss: 0.1136 - acc: 0.9612 - val_loss: 0.5178 - val_acc: 0.8733\n",
      "Epoch 20/20\n",
      "25000/25000 [==============================] - 2s 74us/step - loss: 0.1179 - acc: 0.9629 - val_loss: 0.5340 - val_acc: 0.8725\n"
     ]
    }
   ],
   "source": [
    "dpt_model_hist = dpt_model.fit(x_train, y_train,\n",
    "                               epochs=20,\n",
    "                               batch_size=512,\n",
    "                               validation_data=(x_test, y_test))"
   ]
  },
  {
   "cell_type": "markdown",
   "metadata": {},
   "source": [
    "Let's plot the results:"
   ]
  },
  {
   "cell_type": "code",
   "execution_count": 43,
   "metadata": {},
   "outputs": [
    {
     "data": {
      "image/png": "[encoded data removed]",
      "text/plain": [
       "<matplotlib.figure.Figure at 0x7fe5e45dceb8>"
      ]
     },
     "metadata": {},
     "output_type": "display_data"
    }
   ],
   "source": [
    "dpt_model_val_loss = dpt_model_hist.history['val_loss']\n",
    "\n",
    "plt.plot(epochs, original_val_loss, 'b+', label='Original model')\n",
    "plt.plot(epochs, dpt_model_val_loss, 'bo', label='Dropout-regularized model')\n",
    "plt.xlabel('Epochs')\n",
    "plt.ylabel('Validation loss')\n",
    "plt.legend()\n",
    "\n",
    "plt.show()"
   ]
  },
  {
   "cell_type": "markdown",
   "metadata": {},
   "source": [
    "\n",
    "Again, a clear improvement over the reference network.\n",
    "\n",
    "To recap: here the most common ways to prevent overfitting in neural networks:\n",
    "\n",
    "* Getting more training data.\n",
    "* Reducing the capacity of the network.\n",
    "* Adding weight regularization.\n",
    "* Adding dropout."
   ]
  }
 ],
 "metadata": {
  "kernelspec": {
   "display_name": "Python 3",
   "language": "python",
   "name": "python3"
  },
  "language_info": {
   "codemirror_mode": {
    "name": "ipython",
    "version": 3
   },
   "file_extension": ".py",
   "mimetype": "text/x-python",
   "name": "python",
   "nbconvert_exporter": "python",
   "pygments_lexer": "ipython3",
   "version": "3.6.1"
  },
  "toc": {
   "nav_menu": {},
   "number_sections": true,
   "sideBar": true,
   "skip_h1_title": false,
   "toc_cell": false,
   "toc_position": {},
   "toc_section_display": "block",
   "toc_window_display": false
  }
 },
 "nbformat": 4,
 "nbformat_minor": 2
}
