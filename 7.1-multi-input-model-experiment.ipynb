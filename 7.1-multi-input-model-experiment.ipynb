{
 "cells": [
  {
   "cell_type": "code",
   "execution_count": 12,
   "metadata": {},
   "outputs": [],
   "source": [
    "from keras.models import Model\n",
    "from keras import layers\n",
    "from keras import Input"
   ]
  },
  {
   "cell_type": "code",
   "execution_count": 13,
   "metadata": {
    "collapsed": true
   },
   "outputs": [],
   "source": [
    "text_vocabulary_size = 10000\n",
    "question_vocabulary_size = 10000\n",
    "answer_vocabulay_size  = 500"
   ]
  },
  {
   "cell_type": "code",
   "execution_count": 14,
   "metadata": {},
   "outputs": [],
   "source": [
    "text_input = Input(shape=(None,), dtype='int32', name='text')\n",
    "embedded_text = layers.Embedding(text_vocabulary_size, 64)(text_input)\n",
    "encoded_text = layers.LSTM(32, return_sequences=False)(embedded_text)"
   ]
  },
  {
   "cell_type": "code",
   "execution_count": 15,
   "metadata": {
    "collapsed": true
   },
   "outputs": [],
   "source": [
    "question_input = Input(shape=(None,), dtype='int32', name='question')\n",
    "embedded_question = layers.Embedding(question_vocabulary_size, 32)(question_input)\n",
    "encoded_question = layers.LSTM(16)(embedded_question)"
   ]
  },
  {
   "cell_type": "code",
   "execution_count": 16,
   "metadata": {
    "collapsed": true
   },
   "outputs": [],
   "source": [
    "concatenated = layers.concatenate([encoded_text, encoded_question], axis=-1)"
   ]
  },
  {
   "cell_type": "code",
   "execution_count": 17,
   "metadata": {},
   "outputs": [
    {
     "data": {
      "text/plain": [
       "(TensorShape([Dimension(None), Dimension(32)]),\n",
       " TensorShape([Dimension(None), Dimension(16)]),\n",
       " TensorShape([Dimension(None), Dimension(48)]))"
      ]
     },
     "execution_count": 17,
     "metadata": {},
     "output_type": "execute_result"
    }
   ],
   "source": [
    "encoded_text.shape, encoded_question.shape, concatenated.shape"
   ]
  },
  {
   "cell_type": "code",
   "execution_count": 18,
   "metadata": {
    "collapsed": true
   },
   "outputs": [],
   "source": [
    "answer = layers.Dense(answer_vocabulay_size, activation='softmax')(concatenated)"
   ]
  },
  {
   "cell_type": "code",
   "execution_count": 19,
   "metadata": {},
   "outputs": [],
   "source": [
    "model = Model([text_input, question_input], answer)\n",
    "model.compile(optimizer='rmsprop', loss='categorical_crossentropy', metrics=['acc'])"
   ]
  },
  {
   "cell_type": "code",
   "execution_count": 20,
   "metadata": {},
   "outputs": [
    {
     "name": "stdout",
     "output_type": "stream",
     "text": [
      "__________________________________________________________________________________________________\n",
      "Layer (type)                    Output Shape         Param #     Connected to                     \n",
      "==================================================================================================\n",
      "text (InputLayer)               (None, None)         0                                            \n",
      "__________________________________________________________________________________________________\n",
      "question (InputLayer)           (None, None)         0                                            \n",
      "__________________________________________________________________________________________________\n",
      "embedding_4 (Embedding)         (None, None, 64)     640000      text[0][0]                       \n",
      "__________________________________________________________________________________________________\n",
      "embedding_5 (Embedding)         (None, None, 32)     320000      question[0][0]                   \n",
      "__________________________________________________________________________________________________\n",
      "lstm_4 (LSTM)                   (None, 32)           12416       embedding_4[0][0]                \n",
      "__________________________________________________________________________________________________\n",
      "lstm_5 (LSTM)                   (None, 16)           3136        embedding_5[0][0]                \n",
      "__________________________________________________________________________________________________\n",
      "concatenate_2 (Concatenate)     (None, 48)           0           lstm_4[0][0]                     \n",
      "                                                                 lstm_5[0][0]                     \n",
      "__________________________________________________________________________________________________\n",
      "dense_2 (Dense)                 (None, 500)          24500       concatenate_2[0][0]              \n",
      "==================================================================================================\n",
      "Total params: 1,000,052\n",
      "Trainable params: 1,000,052\n",
      "Non-trainable params: 0\n",
      "__________________________________________________________________________________________________\n"
     ]
    }
   ],
   "source": [
    "model.summary()"
   ]
  },
  {
   "cell_type": "code",
   "execution_count": 21,
   "metadata": {
    "scrolled": false
   },
   "outputs": [
    {
     "name": "stdout",
     "output_type": "stream",
     "text": [
      "Epoch 1/10\n",
      "1000/1000 [==============================] - 2s 2ms/step - loss: 0.0000e+00 - acc: 0.0030\n",
      "Epoch 2/10\n",
      "1000/1000 [==============================] - 1s 679us/step - loss: 0.0000e+00 - acc: 0.0030\n",
      "Epoch 3/10\n",
      "1000/1000 [==============================] - 1s 697us/step - loss: 0.0000e+00 - acc: 0.0030\n",
      "Epoch 4/10\n",
      "1000/1000 [==============================] - 1s 852us/step - loss: 0.0000e+00 - acc: 0.0030\n",
      "Epoch 5/10\n",
      "1000/1000 [==============================] - 1s 709us/step - loss: 0.0000e+00 - acc: 0.0030\n",
      "Epoch 6/10\n",
      "1000/1000 [==============================] - 1s 692us/step - loss: 0.0000e+00 - acc: 0.0030\n",
      "Epoch 7/10\n",
      "1000/1000 [==============================] - 1s 705us/step - loss: 0.0000e+00 - acc: 0.0030\n",
      "Epoch 8/10\n",
      "1000/1000 [==============================] - 1s 739us/step - loss: 0.0000e+00 - acc: 0.0030\n",
      "Epoch 9/10\n",
      "1000/1000 [==============================] - 1s 715us/step - loss: 0.0000e+00 - acc: 0.0030\n",
      "Epoch 10/10\n",
      "1000/1000 [==============================] - 1s 782us/step - loss: 0.0000e+00 - acc: 0.0030\n"
     ]
    },
    {
     "data": {
      "text/plain": [
       "<keras.callbacks.History at 0x7fe48c5b61d0>"
      ]
     },
     "execution_count": 21,
     "metadata": {},
     "output_type": "execute_result"
    }
   ],
   "source": [
    "import numpy as np\n",
    "\n",
    "num_samples = 1000\n",
    "max_length = 100\n",
    "\n",
    "text = np.random.randint(1, text_vocabulary_size, size=(num_samples, max_length))\n",
    "question = np.random.randint(1, question_vocabulary_size, size=(num_samples, max_length))\n",
    "answers = np.random.randint(0, 1, size=(num_samples, answer_vocabulay_size))\n",
    "                            \n",
    "model.fit([text, question], answers, epochs=10, batch_size=128)"
   ]
  },
  {
   "cell_type": "code",
   "execution_count": 22,
   "metadata": {},
   "outputs": [
    {
     "name": "stdout",
     "output_type": "stream",
     "text": [
      "Epoch 1/10\n",
      "1000/1000 [==============================] - 1s 747us/step - loss: 0.0000e+00 - acc: 0.0030\n",
      "Epoch 2/10\n",
      "1000/1000 [==============================] - 1s 678us/step - loss: 0.0000e+00 - acc: 0.0030\n",
      "Epoch 3/10\n",
      "1000/1000 [==============================] - 1s 764us/step - loss: 0.0000e+00 - acc: 0.0030\n",
      "Epoch 4/10\n",
      "1000/1000 [==============================] - 1s 708us/step - loss: 0.0000e+00 - acc: 0.0030\n",
      "Epoch 5/10\n",
      "1000/1000 [==============================] - 1s 750us/step - loss: 0.0000e+00 - acc: 0.0030\n",
      "Epoch 6/10\n",
      "1000/1000 [==============================] - 1s 754us/step - loss: 0.0000e+00 - acc: 0.0030\n",
      "Epoch 7/10\n",
      "1000/1000 [==============================] - 1s 741us/step - loss: 0.0000e+00 - acc: 0.0030\n",
      "Epoch 8/10\n",
      "1000/1000 [==============================] - 1s 750us/step - loss: 0.0000e+00 - acc: 0.0030\n",
      "Epoch 9/10\n",
      "1000/1000 [==============================] - 1s 671us/step - loss: 0.0000e+00 - acc: 0.0030\n",
      "Epoch 10/10\n",
      "1000/1000 [==============================] - 1s 694us/step - loss: 0.0000e+00 - acc: 0.0030\n"
     ]
    },
    {
     "data": {
      "text/plain": [
       "<keras.callbacks.History at 0x7fe48c787860>"
      ]
     },
     "execution_count": 22,
     "metadata": {},
     "output_type": "execute_result"
    }
   ],
   "source": [
    "model.fit({'text': text, 'question': question}, answers, epochs=10, batch_size=128)"
   ]
  },
  {
   "cell_type": "code",
   "execution_count": null,
   "metadata": {
    "collapsed": true
   },
   "outputs": [],
   "source": []
  }
 ],
 "metadata": {
  "kernelspec": {
   "display_name": "Python 3",
   "language": "python",
   "name": "python3"
  },
  "language_info": {
   "codemirror_mode": {
    "name": "ipython",
    "version": 3
   },
   "file_extension": ".py",
   "mimetype": "text/x-python",
   "name": "python",
   "nbconvert_exporter": "python",
   "pygments_lexer": "ipython3",
   "version": "3.6.1"
  },
  "toc": {
   "nav_menu": {},
   "number_sections": true,
   "sideBar": true,
   "skip_h1_title": false,
   "toc_cell": false,
   "toc_position": {},
   "toc_section_display": "block",
   "toc_window_display": false
  }
 },
 "nbformat": 4,
 "nbformat_minor": 2
}
