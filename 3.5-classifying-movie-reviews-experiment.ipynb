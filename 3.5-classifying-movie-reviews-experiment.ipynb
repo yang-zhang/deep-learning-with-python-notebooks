{
 "cells": [
  {
   "cell_type": "code",
   "execution_count": 21,
   "metadata": {},
   "outputs": [
    {
     "data": {
      "text/plain": [
       "'2.1.2'"
      ]
     },
     "execution_count": 21,
     "metadata": {},
     "output_type": "execute_result"
    }
   ],
   "source": [
    "import keras\n",
    "keras.__version__"
   ]
  },
  {
   "cell_type": "markdown",
   "metadata": {},
   "source": [
    "# Classifying movie reviews: a binary classification example\n",
    "\n",
    "This notebook contains the code samples found in Chapter 3, Section 5 of [Deep Learning with Python](https://www.manning.com/books/deep-learning-with-python?a_aid=keras&a_bid=76564dff). Note that the original text features far more content, in particular further explanations and figures: in this notebook, you will only find source code and related comments.\n",
    "\n",
    "----\n",
    "\n",
    "\n",
    "Two-class classification, or binary classification, may be the most widely applied kind of machine learning problem. In this example, we \n",
    "will learn to classify movie reviews into \"positive\" reviews and \"negative\" reviews, just based on the text content of the reviews."
   ]
  },
  {
   "cell_type": "markdown",
   "metadata": {},
   "source": [
    "## The IMDB dataset\n",
    "\n",
    "\n",
    "We'll be working with \"IMDB dataset\", a set of 50,000 highly-polarized reviews from the Internet Movie Database. They are split into 25,000 \n",
    "reviews for training and 25,000 reviews for testing, each set consisting in 50% negative and 50% positive reviews.\n",
    "\n",
    "Why do we have these two separate training and test sets? You should never test a machine learning model on the same data that you used to \n",
    "train it! Just because a model performs well on its training data doesn't mean that it will perform well on data it has never seen, and \n",
    "what you actually care about is your model's performance on new data (since you already know the labels of your training data -- obviously \n",
    "you don't need your model to predict those). For instance, it is possible that your model could end up merely _memorizing_ a mapping between \n",
    "your training samples and their targets -- which would be completely useless for the task of predicting targets for data never seen before. \n",
    "We will go over this point in much more detail in the next chapter.\n",
    "\n",
    "Just like the MNIST dataset, the IMDB dataset comes packaged with Keras. It has already been preprocessed: the reviews (sequences of words) \n",
    "have been turned into sequences of integers, where each integer stands for a specific word in a dictionary.\n",
    "\n",
    "The following code will load the dataset (when you run it for the first time, about 80MB of data will be downloaded to your machine):"
   ]
  },
  {
   "cell_type": "code",
   "execution_count": 22,
   "metadata": {},
   "outputs": [],
   "source": [
    "from keras.datasets import imdb\n",
    "\n",
    "(train_data, train_labels), (test_data, test_labels) = imdb.load_data(num_words=10000)"
   ]
  },
  {
   "cell_type": "markdown",
   "metadata": {},
   "source": [
    "\n",
    "The argument `num_words=10000` means that we will only keep the top 10,000 most frequently occurring words in the training data. Rare words \n",
    "will be discarded. This allows us to work with vector data of manageable size.\n",
    "\n",
    "The variables `train_data` and `test_data` are lists of reviews, each review being a list of word indices (encoding a sequence of words). \n",
    "`train_labels` and `test_labels` are lists of 0s and 1s, where 0 stands for \"negative\" and 1 stands for \"positive\":"
   ]
  },
  {
   "cell_type": "code",
   "execution_count": 23,
   "metadata": {},
   "outputs": [
    {
     "data": {
      "text/plain": [
       "[1,\n",
       " 14,\n",
       " 22,\n",
       " 16,\n",
       " 43,\n",
       " 530,\n",
       " 973,\n",
       " 1622,\n",
       " 1385,\n",
       " 65,\n",
       " 458,\n",
       " 4468,\n",
       " 66,\n",
       " 3941,\n",
       " 4,\n",
       " 173,\n",
       " 36,\n",
       " 256,\n",
       " 5,\n",
       " 25,\n",
       " 100,\n",
       " 43,\n",
       " 838,\n",
       " 112,\n",
       " 50,\n",
       " 670,\n",
       " 2,\n",
       " 9,\n",
       " 35,\n",
       " 480,\n",
       " 284,\n",
       " 5,\n",
       " 150,\n",
       " 4,\n",
       " 172,\n",
       " 112,\n",
       " 167,\n",
       " 2,\n",
       " 336,\n",
       " 385,\n",
       " 39,\n",
       " 4,\n",
       " 172,\n",
       " 4536,\n",
       " 1111,\n",
       " 17,\n",
       " 546,\n",
       " 38,\n",
       " 13,\n",
       " 447,\n",
       " 4,\n",
       " 192,\n",
       " 50,\n",
       " 16,\n",
       " 6,\n",
       " 147,\n",
       " 2025,\n",
       " 19,\n",
       " 14,\n",
       " 22,\n",
       " 4,\n",
       " 1920,\n",
       " 4613,\n",
       " 469,\n",
       " 4,\n",
       " 22,\n",
       " 71,\n",
       " 87,\n",
       " 12,\n",
       " 16,\n",
       " 43,\n",
       " 530,\n",
       " 38,\n",
       " 76,\n",
       " 15,\n",
       " 13,\n",
       " 1247,\n",
       " 4,\n",
       " 22,\n",
       " 17,\n",
       " 515,\n",
       " 17,\n",
       " 12,\n",
       " 16,\n",
       " 626,\n",
       " 18,\n",
       " 2,\n",
       " 5,\n",
       " 62,\n",
       " 386,\n",
       " 12,\n",
       " 8,\n",
       " 316,\n",
       " 8,\n",
       " 106,\n",
       " 5,\n",
       " 4,\n",
       " 2223,\n",
       " 5244,\n",
       " 16,\n",
       " 480,\n",
       " 66,\n",
       " 3785,\n",
       " 33,\n",
       " 4,\n",
       " 130,\n",
       " 12,\n",
       " 16,\n",
       " 38,\n",
       " 619,\n",
       " 5,\n",
       " 25,\n",
       " 124,\n",
       " 51,\n",
       " 36,\n",
       " 135,\n",
       " 48,\n",
       " 25,\n",
       " 1415,\n",
       " 33,\n",
       " 6,\n",
       " 22,\n",
       " 12,\n",
       " 215,\n",
       " 28,\n",
       " 77,\n",
       " 52,\n",
       " 5,\n",
       " 14,\n",
       " 407,\n",
       " 16,\n",
       " 82,\n",
       " 2,\n",
       " 8,\n",
       " 4,\n",
       " 107,\n",
       " 117,\n",
       " 5952,\n",
       " 15,\n",
       " 256,\n",
       " 4,\n",
       " 2,\n",
       " 7,\n",
       " 3766,\n",
       " 5,\n",
       " 723,\n",
       " 36,\n",
       " 71,\n",
       " 43,\n",
       " 530,\n",
       " 476,\n",
       " 26,\n",
       " 400,\n",
       " 317,\n",
       " 46,\n",
       " 7,\n",
       " 4,\n",
       " 2,\n",
       " 1029,\n",
       " 13,\n",
       " 104,\n",
       " 88,\n",
       " 4,\n",
       " 381,\n",
       " 15,\n",
       " 297,\n",
       " 98,\n",
       " 32,\n",
       " 2071,\n",
       " 56,\n",
       " 26,\n",
       " 141,\n",
       " 6,\n",
       " 194,\n",
       " 7486,\n",
       " 18,\n",
       " 4,\n",
       " 226,\n",
       " 22,\n",
       " 21,\n",
       " 134,\n",
       " 476,\n",
       " 26,\n",
       " 480,\n",
       " 5,\n",
       " 144,\n",
       " 30,\n",
       " 5535,\n",
       " 18,\n",
       " 51,\n",
       " 36,\n",
       " 28,\n",
       " 224,\n",
       " 92,\n",
       " 25,\n",
       " 104,\n",
       " 4,\n",
       " 226,\n",
       " 65,\n",
       " 16,\n",
       " 38,\n",
       " 1334,\n",
       " 88,\n",
       " 12,\n",
       " 16,\n",
       " 283,\n",
       " 5,\n",
       " 16,\n",
       " 4472,\n",
       " 113,\n",
       " 103,\n",
       " 32,\n",
       " 15,\n",
       " 16,\n",
       " 5345,\n",
       " 19,\n",
       " 178,\n",
       " 32]"
      ]
     },
     "execution_count": 23,
     "metadata": {},
     "output_type": "execute_result"
    }
   ],
   "source": [
    "train_data[0]"
   ]
  },
  {
   "cell_type": "code",
   "execution_count": 24,
   "metadata": {
    "scrolled": true
   },
   "outputs": [
    {
     "data": {
      "text/plain": [
       "1"
      ]
     },
     "execution_count": 24,
     "metadata": {},
     "output_type": "execute_result"
    }
   ],
   "source": [
    "train_labels[0]"
   ]
  },
  {
   "cell_type": "code",
   "execution_count": 25,
   "metadata": {},
   "outputs": [
    {
     "data": {
      "text/plain": [
       "[218, 189, 141, 550, 147, 43, 123, 562, 233, 130]"
      ]
     },
     "execution_count": 25,
     "metadata": {},
     "output_type": "execute_result"
    }
   ],
   "source": [
    "[len(i) for i in train_data[:10]]"
   ]
  },
  {
   "cell_type": "markdown",
   "metadata": {},
   "source": [
    "Since we restricted ourselves to the top 10,000 most frequent words, no word index will exceed 10,000:"
   ]
  },
  {
   "cell_type": "code",
   "execution_count": 26,
   "metadata": {},
   "outputs": [
    {
     "data": {
      "text/plain": [
       "9999"
      ]
     },
     "execution_count": 26,
     "metadata": {},
     "output_type": "execute_result"
    }
   ],
   "source": [
    "max([max(sequence) for sequence in train_data])"
   ]
  },
  {
   "cell_type": "markdown",
   "metadata": {},
   "source": [
    "For kicks, here's how you can quickly decode one of these reviews back to English words:"
   ]
  },
  {
   "cell_type": "code",
   "execution_count": 27,
   "metadata": {},
   "outputs": [],
   "source": [
    "# word_index is a dictionary mapping words to an integer index\n",
    "word_index = imdb.get_word_index()\n",
    "# We reverse it, mapping integer indices to words\n",
    "reverse_word_index = dict([(value, key) for (key, value) in word_index.items()])\n",
    "# We decode the review; note that our indices were offset by 3\n",
    "# because 0, 1 and 2 are reserved indices for \"padding\", \"start of sequence\", and \"unknown\".\n",
    "decoded_review = ' '.join([reverse_word_index.get(i - 3, '?') for i in train_data[0]])"
   ]
  },
  {
   "cell_type": "code",
   "execution_count": 28,
   "metadata": {},
   "outputs": [
    {
     "data": {
      "text/plain": [
       "\"? this film was just brilliant casting location scenery story direction everyone's really suited the part they played and you could just imagine being there robert ? is an amazing actor and now the same being director ? father came from the same scottish island as myself so i loved the fact there was a real connection with this film the witty remarks throughout the film were great it was just brilliant so much that i bought the film as soon as it was released for ? and would recommend it to everyone to watch and the fly fishing was amazing really cried at the end it was so sad and you know what they say if you cry at a film it must have been good and this definitely was also ? to the two little boy's that played the ? of norman and paul they were just brilliant children are often left out of the ? list i think because the stars that play them all grown up are such a big profile for the whole film but these children are amazing and should be praised for what they have done don't you think the whole story was so lovely because it was true and was someone's life after all that was shared with us all\""
      ]
     },
     "execution_count": 28,
     "metadata": {},
     "output_type": "execute_result"
    }
   ],
   "source": [
    "decoded_review"
   ]
  },
  {
   "cell_type": "markdown",
   "metadata": {},
   "source": [
    "## Preparing the data\n",
    "\n",
    "\n",
    "We cannot feed lists of integers into a neural network. We have to turn our lists into tensors. There are two ways we could do that:\n",
    "\n",
    "* We could pad our lists so that they all have the same length, and turn them into an integer tensor of shape `(samples, word_indices)`, \n",
    "then use as first layer in our network a layer capable of handling such integer tensors (the `Embedding` layer, which we will cover in \n",
    "detail later in the book).\n",
    "* We could one-hot-encode our lists to turn them into vectors of 0s and 1s. Concretely, this would mean for instance turning the sequence \n",
    "`[3, 5]` into a 10,000-dimensional vector that would be all-zeros except for indices 3 and 5, which would be ones. Then we could use as \n",
    "first layer in our network a `Dense` layer, capable of handling floating point vector data.\n",
    "\n",
    "We will go with the latter solution. Let's vectorize our data, which we will do manually for maximum clarity:"
   ]
  },
  {
   "cell_type": "code",
   "execution_count": 29,
   "metadata": {
    "collapsed": true
   },
   "outputs": [],
   "source": [
    "import numpy as np\n",
    "\n",
    "def vectorize_sequences(sequences, dimension=10000):\n",
    "    # Create an all-zero matrix of shape (len(sequences), dimension)\n",
    "    results = np.zeros((len(sequences), dimension))\n",
    "    for i, sequence in enumerate(sequences):\n",
    "        results[i, sequence] = 1.  # set specific indices of results[i] to 1s\n",
    "    return results\n",
    "\n",
    "# Our vectorized training data\n",
    "x_train = vectorize_sequences(train_data)\n",
    "# Our vectorized test data\n",
    "x_test = vectorize_sequences(test_data)"
   ]
  },
  {
   "cell_type": "markdown",
   "metadata": {},
   "source": [
    "Here's what our samples look like now:"
   ]
  },
  {
   "cell_type": "code",
   "execution_count": 30,
   "metadata": {},
   "outputs": [
    {
     "data": {
      "text/plain": [
       "array([ 0.,  1.,  1., ...,  0.,  0.,  0.])"
      ]
     },
     "execution_count": 30,
     "metadata": {},
     "output_type": "execute_result"
    }
   ],
   "source": [
    "x_train[0]"
   ]
  },
  {
   "cell_type": "code",
   "execution_count": 31,
   "metadata": {
    "scrolled": true
   },
   "outputs": [
    {
     "data": {
      "text/plain": [
       "array([[ 0.,  0.,  0.,  0.,  0.,  0.,  0.,  0.,  0.,  0.],\n",
       "       [ 0.,  0.,  0.,  0.,  0.,  0.,  0.,  0.,  0.,  0.],\n",
       "       [ 0.,  0.,  0.,  0.,  0.,  0.,  0.,  0.,  0.,  0.],\n",
       "       [ 0.,  0.,  0.,  0.,  0.,  0.,  0.,  0.,  0.,  0.],\n",
       "       [ 0.,  0.,  0.,  0.,  0.,  0.,  0.,  0.,  0.,  0.]])"
      ]
     },
     "execution_count": 31,
     "metadata": {},
     "output_type": "execute_result"
    }
   ],
   "source": [
    "foo_results = np.zeros((5, 10))\n",
    "foo_results"
   ]
  },
  {
   "cell_type": "markdown",
   "metadata": {},
   "source": [
    "repeated indices are just counted once."
   ]
  },
  {
   "cell_type": "code",
   "execution_count": 32,
   "metadata": {},
   "outputs": [
    {
     "data": {
      "text/plain": [
       "array([[ 0.,  0.,  0.,  0.,  0.,  0.,  0.,  0.,  0.,  0.],\n",
       "       [ 0.,  1.,  1.,  1.,  0.,  1.,  0.,  0.,  0.,  0.],\n",
       "       [ 0.,  0.,  0.,  0.,  0.,  0.,  0.,  0.,  0.,  0.],\n",
       "       [ 0.,  0.,  0.,  0.,  0.,  0.,  0.,  0.,  0.,  0.],\n",
       "       [ 0.,  0.,  0.,  0.,  0.,  0.,  0.,  0.,  0.,  0.]])"
      ]
     },
     "execution_count": 32,
     "metadata": {},
     "output_type": "execute_result"
    }
   ],
   "source": [
    "foo_sequence = np.array([1, 2, 2, 3, 3, 5])\n",
    "foo_results[1, foo_sequence] = 1\n",
    "foo_results"
   ]
  },
  {
   "cell_type": "markdown",
   "metadata": {},
   "source": [
    "We should also vectorize our labels, which is straightforward:"
   ]
  },
  {
   "cell_type": "code",
   "execution_count": 33,
   "metadata": {
    "collapsed": true
   },
   "outputs": [],
   "source": [
    "# Our vectorized labels\n",
    "y_train = np.asarray(train_labels).astype('float32')\n",
    "y_test = np.asarray(test_labels).astype('float32')"
   ]
  },
  {
   "cell_type": "markdown",
   "metadata": {},
   "source": [
    "Now our data is ready to be fed into a neural network."
   ]
  },
  {
   "cell_type": "markdown",
   "metadata": {},
   "source": [
    "## Building our network\n",
    "\n",
    "\n",
    "Our input data is simply vectors, and our labels are scalars (1s and 0s): this is the easiest setup you will ever encounter. A type of \n",
    "network that performs well on such a problem would be a simple stack of fully-connected (`Dense`) layers with `relu` activations: `Dense(16, \n",
    "activation='relu')`\n",
    "\n",
    "The argument being passed to each `Dense` layer (16) is the number of \"hidden units\" of the layer. What's a hidden unit? It's a dimension \n",
    "in the representation space of the layer. You may remember from the previous chapter that each such `Dense` layer with a `relu` activation implements \n",
    "the following chain of tensor operations:\n",
    "\n",
    "`output = relu(dot(W, input) + b)`\n",
    "\n",
    "Having 16 hidden units means that the weight matrix `W` will have shape `(input_dimension, 16)`, i.e. the dot product with `W` will project the \n",
    "input data onto a 16-dimensional representation space (and then we would add the bias vector `b` and apply the `relu` operation). You can \n",
    "intuitively understand the dimensionality of your representation space as \"how much freedom you are allowing the network to have when \n",
    "learning internal representations\". Having more hidden units (a higher-dimensional representation space) allows your network to learn more \n",
    "complex representations, but it makes your network more computationally expensive and may lead to learning unwanted patterns (patterns that \n",
    "will improve performance on the training data but not on the test data).\n",
    "\n",
    "There are two key architecture decisions to be made about such stack of dense layers:\n",
    "\n",
    "* How many layers to use.\n",
    "* How many \"hidden units\" to chose for each layer.\n",
    "\n",
    "In the next chapter, you will learn formal principles to guide you in making these choices. \n",
    "For the time being, you will have to trust us with the following architecture choice: \n",
    "two intermediate layers with 16 hidden units each, \n",
    "and a third layer which will output the scalar prediction regarding the sentiment of the current review. \n",
    "The intermediate layers will use `relu` as their \"activation function\", \n",
    "and the final layer will use a sigmoid activation so as to output a probability \n",
    "(a score between 0 and 1, indicating how likely the sample is to have the target \"1\", i.e. how likely the review is to be positive). \n",
    "A `relu` (rectified linear unit) is a function meant to zero-out negative values, \n",
    "while a sigmoid \"squashes\" arbitrary values into the `[0, 1]` interval, thus outputting something that can be interpreted as a probability."
   ]
  },
  {
   "cell_type": "markdown",
   "metadata": {},
   "source": [
    "Here's what our network looks like:\n",
    "\n",
    "![3-layer network](https://s3.amazonaws.com/book.keras.io/img/ch3/3_layer_network.png)"
   ]
  },
  {
   "cell_type": "markdown",
   "metadata": {},
   "source": [
    "And here's the Keras implementation, very similar to the MNIST example you saw previously:"
   ]
  },
  {
   "cell_type": "code",
   "execution_count": 34,
   "metadata": {
    "collapsed": true
   },
   "outputs": [],
   "source": [
    "from keras import models\n",
    "from keras import layers\n",
    "\n",
    "model = models.Sequential()\n",
    "model.add(layers.Dense(16, activation='relu', input_shape=(10000,)))\n",
    "model.add(layers.Dense(16, activation='relu'))\n",
    "model.add(layers.Dense(1, activation='sigmoid'))"
   ]
  },
  {
   "cell_type": "markdown",
   "metadata": {},
   "source": [
    "\n",
    "Lastly, we need to pick a loss function and an optimizer. Since we are facing a binary classification problem and the output of our network \n",
    "is a probability (we end our network with a single-unit layer with a sigmoid activation), is it best to use the `binary_crossentropy` loss. \n",
    "It isn't the only viable choice: you could use, for instance, `mean_squared_error`. But crossentropy is usually the best choice when you \n",
    "are dealing with models that output probabilities. Crossentropy is a quantity from the field of Information Theory, that measures the \"distance\" \n",
    "between probability distributions, or in our case, between the ground-truth distribution and our predictions.\n",
    "\n",
    "Here's the step where we configure our model with the `rmsprop` optimizer and the `binary_crossentropy` loss function. Note that we will \n",
    "also monitor accuracy during training."
   ]
  },
  {
   "cell_type": "code",
   "execution_count": 35,
   "metadata": {},
   "outputs": [
    {
     "name": "stdout",
     "output_type": "stream",
     "text": [
      "WARNING:tensorflow:From /opt/conda/lib/python3.6/site-packages/keras/backend/tensorflow_backend.py:1349: calling reduce_mean (from tensorflow.python.ops.math_ops) with keep_dims is deprecated and will be removed in a future version.\n",
      "Instructions for updating:\n",
      "keep_dims is deprecated, use keepdims instead\n"
     ]
    }
   ],
   "source": [
    "model.compile(optimizer='rmsprop',\n",
    "              loss='binary_crossentropy',\n",
    "              metrics=['accuracy'])"
   ]
  },
  {
   "cell_type": "markdown",
   "metadata": {},
   "source": [
    "We are passing our optimizer, loss function and metrics as strings, which is possible because `rmsprop`, `binary_crossentropy` and \n",
    "`accuracy` are packaged as part of Keras. Sometimes you may want to configure the parameters of your optimizer, or pass a custom loss \n",
    "function or metric function. This former can be done by passing an optimizer class instance as the `optimizer` argument:"
   ]
  },
  {
   "cell_type": "code",
   "execution_count": 36,
   "metadata": {
    "collapsed": true
   },
   "outputs": [],
   "source": [
    "from keras import optimizers\n",
    "\n",
    "model.compile(optimizer=optimizers.RMSprop(lr=0.001),\n",
    "              loss='binary_crossentropy',\n",
    "              metrics=['accuracy'])"
   ]
  },
  {
   "cell_type": "markdown",
   "metadata": {},
   "source": [
    "The latter can be done by passing function objects as the `loss` or `metrics` arguments:"
   ]
  },
  {
   "cell_type": "code",
   "execution_count": 37,
   "metadata": {
    "collapsed": true
   },
   "outputs": [],
   "source": [
    "from keras import losses\n",
    "from keras import metrics\n",
    "\n",
    "model.compile(optimizer=optimizers.RMSprop(lr=0.001),\n",
    "              loss=losses.binary_crossentropy,\n",
    "              metrics=[metrics.binary_accuracy])"
   ]
  },
  {
   "cell_type": "markdown",
   "metadata": {},
   "source": [
    "## Validating our approach\n",
    "\n",
    "In order to monitor during training the accuracy of the model on data that it has never seen before, we will create a \"validation set\" by \n",
    "setting apart 10,000 samples from the original training data:"
   ]
  },
  {
   "cell_type": "code",
   "execution_count": 38,
   "metadata": {},
   "outputs": [
    {
     "data": {
      "text/plain": [
       "(25000, 10000)"
      ]
     },
     "execution_count": 38,
     "metadata": {},
     "output_type": "execute_result"
    }
   ],
   "source": [
    "x_train.shape"
   ]
  },
  {
   "cell_type": "code",
   "execution_count": 39,
   "metadata": {
    "collapsed": true
   },
   "outputs": [],
   "source": [
    "x_val = x_train[:10000]\n",
    "partial_x_train = x_train[10000:]\n",
    "\n",
    "y_val = y_train[:10000]\n",
    "partial_y_train = y_train[10000:]"
   ]
  },
  {
   "cell_type": "markdown",
   "metadata": {
    "collapsed": true
   },
   "source": [
    "We will now train our model for 20 epochs (20 iterations over all samples in the `x_train` and `y_train` tensors), in mini-batches of 512 \n",
    "samples. At this same time we will monitor loss and accuracy on the 10,000 samples that we set apart. This is done by passing the \n",
    "validation data as the `validation_data` argument:"
   ]
  },
  {
   "cell_type": "code",
   "execution_count": 40,
   "metadata": {
    "collapsed": true
   },
   "outputs": [
    {
     "name": "stdout",
     "output_type": "stream",
     "text": [
      "Train on 15000 samples, validate on 10000 samples\n",
      "Epoch 1/20\n",
      "15000/15000 [==============================] - 1s 74us/step - loss: 0.5087 - binary_accuracy: 0.7807 - val_loss: 0.3794 - val_binary_accuracy: 0.8695\n",
      "Epoch 2/20\n",
      "15000/15000 [==============================] - 1s 47us/step - loss: 0.3006 - binary_accuracy: 0.9053 - val_loss: 0.3003 - val_binary_accuracy: 0.8900\n",
      "Epoch 3/20\n",
      "15000/15000 [==============================] - 1s 48us/step - loss: 0.2180 - binary_accuracy: 0.9285 - val_loss: 0.3082 - val_binary_accuracy: 0.8715\n",
      "Epoch 4/20\n",
      "15000/15000 [==============================] - 1s 47us/step - loss: 0.1750 - binary_accuracy: 0.9437 - val_loss: 0.2839 - val_binary_accuracy: 0.8838\n",
      "Epoch 5/20\n",
      "15000/15000 [==============================] - 1s 47us/step - loss: 0.1425 - binary_accuracy: 0.9545 - val_loss: 0.2848 - val_binary_accuracy: 0.8864\n",
      "Epoch 6/20\n",
      "15000/15000 [==============================] - 1s 47us/step - loss: 0.1149 - binary_accuracy: 0.9654 - val_loss: 0.3150 - val_binary_accuracy: 0.8773\n",
      "Epoch 7/20\n",
      "15000/15000 [==============================] - 1s 47us/step - loss: 0.0978 - binary_accuracy: 0.9706 - val_loss: 0.3130 - val_binary_accuracy: 0.8844\n",
      "Epoch 8/20\n",
      "15000/15000 [==============================] - 1s 47us/step - loss: 0.0806 - binary_accuracy: 0.9765 - val_loss: 0.3860 - val_binary_accuracy: 0.8646\n",
      "Epoch 9/20\n",
      "15000/15000 [==============================] - 1s 47us/step - loss: 0.0660 - binary_accuracy: 0.9821 - val_loss: 0.3637 - val_binary_accuracy: 0.8776\n",
      "Epoch 10/20\n",
      "15000/15000 [==============================] - 1s 50us/step - loss: 0.0558 - binary_accuracy: 0.9853 - val_loss: 0.3845 - val_binary_accuracy: 0.8793\n",
      "Epoch 11/20\n",
      "15000/15000 [==============================] - 1s 48us/step - loss: 0.0443 - binary_accuracy: 0.9889 - val_loss: 0.4157 - val_binary_accuracy: 0.8776\n",
      "Epoch 12/20\n",
      "15000/15000 [==============================] - 1s 47us/step - loss: 0.0383 - binary_accuracy: 0.9915 - val_loss: 0.4515 - val_binary_accuracy: 0.8699\n",
      "Epoch 13/20\n",
      "15000/15000 [==============================] - 1s 48us/step - loss: 0.0298 - binary_accuracy: 0.9930 - val_loss: 0.4702 - val_binary_accuracy: 0.8729\n",
      "Epoch 14/20\n",
      "15000/15000 [==============================] - 1s 47us/step - loss: 0.0246 - binary_accuracy: 0.9947 - val_loss: 0.5039 - val_binary_accuracy: 0.8720\n",
      "Epoch 15/20\n",
      "15000/15000 [==============================] - 1s 48us/step - loss: 0.0171 - binary_accuracy: 0.9983 - val_loss: 0.5475 - val_binary_accuracy: 0.8698\n",
      "Epoch 16/20\n",
      "15000/15000 [==============================] - 1s 47us/step - loss: 0.0163 - binary_accuracy: 0.9971 - val_loss: 0.5761 - val_binary_accuracy: 0.8705\n",
      "Epoch 17/20\n",
      "15000/15000 [==============================] - 1s 47us/step - loss: 0.0093 - binary_accuracy: 0.9994 - val_loss: 0.6551 - val_binary_accuracy: 0.8592\n",
      "Epoch 18/20\n",
      "15000/15000 [==============================] - 1s 47us/step - loss: 0.0127 - binary_accuracy: 0.9971 - val_loss: 0.6484 - val_binary_accuracy: 0.8686\n",
      "Epoch 19/20\n",
      "15000/15000 [==============================] - 1s 48us/step - loss: 0.0052 - binary_accuracy: 0.9998 - val_loss: 0.7238 - val_binary_accuracy: 0.8580\n",
      "Epoch 20/20\n",
      "15000/15000 [==============================] - 1s 47us/step - loss: 0.0095 - binary_accuracy: 0.9980 - val_loss: 0.7058 - val_binary_accuracy: 0.8662\n"
     ]
    }
   ],
   "source": [
    "history = model.fit(partial_x_train,\n",
    "                    partial_y_train,\n",
    "                    epochs=20,\n",
    "                    batch_size=512,\n",
    "                    validation_data=(x_val, y_val))"
   ]
  },
  {
   "cell_type": "markdown",
   "metadata": {},
   "source": [
    "On CPU, this will take less than two seconds per epoch -- training is over in 20 seconds. At the end of every epoch, there is a slight pause \n",
    "as the model computes its loss and accuracy on the 10,000 samples of the validation data.\n",
    "\n",
    "Note that the call to `model.fit()` returns a `History` object. This object has a member `history`, which is a dictionary containing data \n",
    "about everything that happened during training. Let's take a look at it:"
   ]
  },
  {
   "cell_type": "code",
   "execution_count": 41,
   "metadata": {},
   "outputs": [
    {
     "data": {
      "text/plain": [
       "dict_keys(['val_loss', 'val_binary_accuracy', 'loss', 'binary_accuracy'])"
      ]
     },
     "execution_count": 41,
     "metadata": {},
     "output_type": "execute_result"
    }
   ],
   "source": [
    "history_dict = history.history\n",
    "history_dict.keys()"
   ]
  },
  {
   "cell_type": "markdown",
   "metadata": {},
   "source": [
    "It contains 4 entries: one per metric that was being monitored, during training and during validation. Let's use Matplotlib to plot the \n",
    "training and validation loss side by side, as well as the training and validation accuracy:"
   ]
  },
  {
   "cell_type": "code",
   "execution_count": 44,
   "metadata": {},
   "outputs": [
    {
     "data": {
      "text/plain": [
       "dict_keys(['val_loss', 'val_binary_accuracy', 'loss', 'binary_accuracy'])"
      ]
     },
     "execution_count": 44,
     "metadata": {},
     "output_type": "execute_result"
    }
   ],
   "source": [
    "history.history.keys()"
   ]
  },
  {
   "cell_type": "code",
   "execution_count": 45,
   "metadata": {},
   "outputs": [
    {
     "data": {
      "image/png": "[encoded data removed]",
      "text/plain": [
       "<matplotlib.figure.Figure at 0x7ff1c95a7e80>"
      ]
     },
     "metadata": {},
     "output_type": "display_data"
    }
   ],
   "source": [
    "import matplotlib.pyplot as plt\n",
    "\n",
    "acc = history.history['binary_accuracy']\n",
    "val_acc = history.history['val_binary_accuracy']\n",
    "loss = history.history['loss']\n",
    "val_loss = history.history['val_loss']\n",
    "\n",
    "epochs = range(1, len(acc) + 1)\n",
    "\n",
    "# \"bo\" is for \"blue dot\"\n",
    "plt.plot(epochs, loss, 'bo', label='Training loss')\n",
    "# b is for \"solid blue line\"\n",
    "plt.plot(epochs, val_loss, 'b', label='Validation loss')\n",
    "plt.title('Training and validation loss')\n",
    "plt.xlabel('Epochs')\n",
    "plt.ylabel('Loss')\n",
    "plt.legend()\n",
    "\n",
    "plt.show()"
   ]
  },
  {
   "cell_type": "code",
   "execution_count": 47,
   "metadata": {},
   "outputs": [
    {
     "data": {
      "image/png": "[encoded data removed]",
      "text/plain": [
       "<matplotlib.figure.Figure at 0x7ff1c95a79e8>"
      ]
     },
     "metadata": {},
     "output_type": "display_data"
    }
   ],
   "source": [
    "plt.clf()   # clear figure\n",
    "acc_values = history_dict['binary_accuracy']\n",
    "val_acc_values = history_dict['val_binary_accuracy']\n",
    "\n",
    "plt.plot(epochs, acc, 'bo', label='Training acc')\n",
    "plt.plot(epochs, val_acc, 'b', label='Validation acc')\n",
    "plt.title('Training and validation accuracy')\n",
    "plt.xlabel('Epochs')\n",
    "plt.ylabel('Loss')\n",
    "plt.legend()\n",
    "\n",
    "plt.show()"
   ]
  },
  {
   "cell_type": "markdown",
   "metadata": {},
   "source": [
    "\n",
    "The dots are the training loss and accuracy, while the solid lines are the validation loss and accuracy. Note that your own results may vary \n",
    "slightly due to a different random initialization of your network.\n",
    "\n",
    "As you can see, the training loss decreases with every epoch and the training accuracy increases with every epoch. That's what you would \n",
    "expect when running gradient descent optimization -- the quantity you are trying to minimize should get lower with every iteration. But that \n",
    "isn't the case for the validation loss and accuracy: they seem to peak at the fourth epoch. This is an example of what we were warning \n",
    "against earlier: a model that performs better on the training data isn't necessarily a model that will do better on data it has never seen \n",
    "before. In precise terms, what you are seeing is \"overfitting\": after the second epoch, we are over-optimizing on the training data, and we \n",
    "ended up learning representations that are specific to the training data and do not generalize to data outside of the training set.\n",
    "\n",
    "In this case, to prevent overfitting, we could simply stop training after three epochs. In general, there is a range of techniques you can \n",
    "leverage to mitigate overfitting, which we will cover in the next chapter.\n",
    "\n",
    "Let's train a new network from scratch for four epochs, then evaluate it on our test data:"
   ]
  },
  {
   "cell_type": "code",
   "execution_count": 48,
   "metadata": {},
   "outputs": [
    {
     "name": "stdout",
     "output_type": "stream",
     "text": [
      "Epoch 1/4\n",
      "25000/25000 [==============================] - 1s 42us/step - loss: 0.4728 - acc: 0.8216\n",
      "Epoch 2/4\n",
      "25000/25000 [==============================] - 1s 33us/step - loss: 0.2666 - acc: 0.9096\n",
      "Epoch 3/4\n",
      "25000/25000 [==============================] - 1s 33us/step - loss: 0.2031 - acc: 0.9287\n",
      "Epoch 4/4\n",
      "25000/25000 [==============================] - 1s 33us/step - loss: 0.1713 - acc: 0.9386\n",
      "25000/25000 [==============================] - 1s 53us/step\n"
     ]
    }
   ],
   "source": [
    "model = models.Sequential()\n",
    "model.add(layers.Dense(16, activation='relu', input_shape=(10000,)))\n",
    "model.add(layers.Dense(16, activation='relu'))\n",
    "model.add(layers.Dense(1, activation='sigmoid'))\n",
    "\n",
    "model.compile(optimizer='rmsprop',\n",
    "              loss='binary_crossentropy',\n",
    "              metrics=['accuracy'])\n",
    "\n",
    "model.fit(x_train, y_train, epochs=4, batch_size=512)\n",
    "results = model.evaluate(x_test, y_test)"
   ]
  },
  {
   "cell_type": "code",
   "execution_count": 49,
   "metadata": {},
   "outputs": [
    {
     "data": {
      "text/plain": [
       "[0.31182810187339782, 0.87624000000000002]"
      ]
     },
     "execution_count": 49,
     "metadata": {},
     "output_type": "execute_result"
    }
   ],
   "source": [
    "results"
   ]
  },
  {
   "cell_type": "markdown",
   "metadata": {},
   "source": [
    "Our fairly naive approach achieves an accuracy of 88%. With state-of-the-art approaches, one should be able to get close to 95%."
   ]
  },
  {
   "cell_type": "markdown",
   "metadata": {},
   "source": [
    "## Using a trained network to generate predictions on new data\n",
    "\n",
    "After having trained a network, you will want to use it in a practical setting. You can generate the likelihood of reviews being positive \n",
    "by using the `predict` method:"
   ]
  },
  {
   "cell_type": "code",
   "execution_count": 50,
   "metadata": {},
   "outputs": [
    {
     "data": {
      "text/plain": [
       "array([[ 0.15613581],\n",
       "       [ 0.99982929],\n",
       "       [ 0.40079772],\n",
       "       ..., \n",
       "       [ 0.08239108],\n",
       "       [ 0.05051764],\n",
       "       [ 0.46675289]], dtype=float32)"
      ]
     },
     "execution_count": 50,
     "metadata": {},
     "output_type": "execute_result"
    }
   ],
   "source": [
    "model.predict(x_test)"
   ]
  },
  {
   "cell_type": "markdown",
   "metadata": {},
   "source": [
    "As you can see, the network is very confident for some samples (0.99 or more, or 0.01 or less) but less confident for others (0.6, 0.4). \n"
   ]
  },
  {
   "cell_type": "markdown",
   "metadata": {},
   "source": [
    "## Further experiments\n",
    "\n",
    "\n",
    "* We were using 2 hidden layers. Try to use 1 or 3 hidden layers and see how it affects validation and test accuracy.\n",
    "* Try to use layers with more hidden units or less hidden units: 32 units, 64 units...\n",
    "* Try to use the `mse` loss function instead of `binary_crossentropy`.\n",
    "* Try to use the `tanh` activation (an activation that was popular in the early days of neural networks) instead of `relu`.\n",
    "\n",
    "These experiments will help convince you that the architecture choices we have made are all fairly reasonable, although they can still be \n",
    "improved!"
   ]
  },
  {
   "cell_type": "markdown",
   "metadata": {},
   "source": [
    "### Try to use 1 or 3 hidden layers and see how it affects validation and test accuracy."
   ]
  },
  {
   "cell_type": "markdown",
   "metadata": {},
   "source": [
    "#### 1 hidden layers"
   ]
  },
  {
   "cell_type": "code",
   "execution_count": 52,
   "metadata": {
    "scrolled": true
   },
   "outputs": [
    {
     "name": "stdout",
     "output_type": "stream",
     "text": [
      "Train on 15000 samples, validate on 10000 samples\n",
      "Epoch 1/20\n",
      "15000/15000 [==============================] - 1s 62us/step - loss: 0.5072 - binary_accuracy: 0.8046 - val_loss: 0.4059 - val_binary_accuracy: 0.8553\n",
      "Epoch 2/20\n",
      "15000/15000 [==============================] - 1s 47us/step - loss: 0.3286 - binary_accuracy: 0.8991 - val_loss: 0.3269 - val_binary_accuracy: 0.8851\n",
      "Epoch 3/20\n",
      "15000/15000 [==============================] - 1s 47us/step - loss: 0.2536 - binary_accuracy: 0.9241 - val_loss: 0.2928 - val_binary_accuracy: 0.8893\n",
      "Epoch 4/20\n",
      "15000/15000 [==============================] - 1s 47us/step - loss: 0.2095 - binary_accuracy: 0.9359 - val_loss: 0.2796 - val_binary_accuracy: 0.8909\n",
      "Epoch 5/20\n",
      "15000/15000 [==============================] - 1s 47us/step - loss: 0.1763 - binary_accuracy: 0.9475 - val_loss: 0.2793 - val_binary_accuracy: 0.8895\n",
      "Epoch 6/20\n",
      "15000/15000 [==============================] - 1s 47us/step - loss: 0.1528 - binary_accuracy: 0.9551 - val_loss: 0.2743 - val_binary_accuracy: 0.8899\n",
      "Epoch 7/20\n",
      "15000/15000 [==============================] - 1s 47us/step - loss: 0.1338 - binary_accuracy: 0.9604 - val_loss: 0.2874 - val_binary_accuracy: 0.8833\n",
      "Epoch 8/20\n",
      "15000/15000 [==============================] - 1s 46us/step - loss: 0.1181 - binary_accuracy: 0.9657 - val_loss: 0.2927 - val_binary_accuracy: 0.8810\n",
      "Epoch 9/20\n",
      "15000/15000 [==============================] - 1s 47us/step - loss: 0.1037 - binary_accuracy: 0.9718 - val_loss: 0.3121 - val_binary_accuracy: 0.8816\n",
      "Epoch 10/20\n",
      "15000/15000 [==============================] - 1s 47us/step - loss: 0.0926 - binary_accuracy: 0.9757 - val_loss: 0.3086 - val_binary_accuracy: 0.8803\n",
      "Epoch 11/20\n",
      "15000/15000 [==============================] - 1s 47us/step - loss: 0.0817 - binary_accuracy: 0.9791 - val_loss: 0.3249 - val_binary_accuracy: 0.8821\n",
      "Epoch 12/20\n",
      "15000/15000 [==============================] - 1s 47us/step - loss: 0.0724 - binary_accuracy: 0.9827 - val_loss: 0.3270 - val_binary_accuracy: 0.8813\n",
      "Epoch 13/20\n",
      "15000/15000 [==============================] - 1s 46us/step - loss: 0.0643 - binary_accuracy: 0.9850 - val_loss: 0.3422 - val_binary_accuracy: 0.8786\n",
      "Epoch 14/20\n",
      "15000/15000 [==============================] - 1s 47us/step - loss: 0.0574 - binary_accuracy: 0.9880 - val_loss: 0.3673 - val_binary_accuracy: 0.8782\n",
      "Epoch 15/20\n",
      "15000/15000 [==============================] - 1s 47us/step - loss: 0.0505 - binary_accuracy: 0.9903 - val_loss: 0.3697 - val_binary_accuracy: 0.8768\n",
      "Epoch 16/20\n",
      "15000/15000 [==============================] - 1s 47us/step - loss: 0.0450 - binary_accuracy: 0.9913 - val_loss: 0.3967 - val_binary_accuracy: 0.8768\n",
      "Epoch 17/20\n",
      "15000/15000 [==============================] - 1s 47us/step - loss: 0.0392 - binary_accuracy: 0.9933 - val_loss: 0.4011 - val_binary_accuracy: 0.8740\n",
      "Epoch 18/20\n",
      "15000/15000 [==============================] - 1s 47us/step - loss: 0.0350 - binary_accuracy: 0.9939 - val_loss: 0.4181 - val_binary_accuracy: 0.8746\n",
      "Epoch 19/20\n",
      "15000/15000 [==============================] - 1s 47us/step - loss: 0.0302 - binary_accuracy: 0.9955 - val_loss: 0.4364 - val_binary_accuracy: 0.8733\n",
      "Epoch 20/20\n",
      "15000/15000 [==============================] - 1s 47us/step - loss: 0.0267 - binary_accuracy: 0.9961 - val_loss: 0.4767 - val_binary_accuracy: 0.8642\n"
     ]
    },
    {
     "data": {
      "image/png": "[encoded data removed]",
      "text/plain": [
       "<matplotlib.figure.Figure at 0x7ff1c21a1e48>"
      ]
     },
     "metadata": {},
     "output_type": "display_data"
    },
    {
     "data": {
      "image/png": "[encoded data removed]",
      "text/plain": [
       "<matplotlib.figure.Figure at 0x7ff1c1720be0>"
      ]
     },
     "metadata": {},
     "output_type": "display_data"
    }
   ],
   "source": [
    "model = models.Sequential()\n",
    "model.add(layers.Dense(16, activation='relu', input_shape=(10000,)))\n",
    "model.add(layers.Dense(1, activation='sigmoid'))\n",
    "model.compile(optimizer=optimizers.RMSprop(lr=0.001),\n",
    "              loss=losses.binary_crossentropy,\n",
    "              metrics=[metrics.binary_accuracy])\n",
    "history = model.fit(partial_x_train,\n",
    "                    partial_y_train,\n",
    "                    epochs=20,\n",
    "                    batch_size=512,\n",
    "                    validation_data=(x_val, y_val))\n",
    "history_dict = history.history\n",
    "acc = history.history['binary_accuracy']\n",
    "val_acc = history.history['val_binary_accuracy']\n",
    "loss = history.history['loss']\n",
    "val_loss = history.history['val_loss']\n",
    "\n",
    "epochs = range(1, len(acc) + 1)\n",
    "\n",
    "# \"bo\" is for \"blue dot\"\n",
    "plt.plot(epochs, loss, 'bo', label='Training loss')\n",
    "# b is for \"solid blue line\"\n",
    "plt.plot(epochs, val_loss, 'b', label='Validation loss')\n",
    "plt.title('Training and validation loss')\n",
    "plt.xlabel('Epochs')\n",
    "plt.ylabel('Loss')\n",
    "plt.legend()\n",
    "plt.show()\n",
    "\n",
    "acc_values = history_dict['binary_accuracy']\n",
    "val_acc_values = history_dict['val_binary_accuracy']\n",
    "\n",
    "plt.plot(epochs, acc, 'bo', label='Training acc')\n",
    "plt.plot(epochs, val_acc, 'b', label='Validation acc')\n",
    "plt.title('Training and validation accuracy')\n",
    "plt.xlabel('Epochs')\n",
    "plt.ylabel('Loss')\n",
    "plt.legend()\n",
    "plt.show()"
   ]
  },
  {
   "cell_type": "markdown",
   "metadata": {},
   "source": [
    "#### 3 hidden layers"
   ]
  },
  {
   "cell_type": "code",
   "execution_count": 53,
   "metadata": {},
   "outputs": [
    {
     "name": "stdout",
     "output_type": "stream",
     "text": [
      "Train on 15000 samples, validate on 10000 samples\n",
      "Epoch 1/20\n",
      "15000/15000 [==============================] - 1s 67us/step - loss: 0.5260 - binary_accuracy: 0.7859 - val_loss: 0.3867 - val_binary_accuracy: 0.8700\n",
      "Epoch 2/20\n",
      "15000/15000 [==============================] - 1s 48us/step - loss: 0.3007 - binary_accuracy: 0.9031 - val_loss: 0.2968 - val_binary_accuracy: 0.8871\n",
      "Epoch 3/20\n",
      "15000/15000 [==============================] - 1s 48us/step - loss: 0.2119 - binary_accuracy: 0.9306 - val_loss: 0.2878 - val_binary_accuracy: 0.8857\n",
      "Epoch 4/20\n",
      "15000/15000 [==============================] - 1s 47us/step - loss: 0.1647 - binary_accuracy: 0.9427 - val_loss: 0.2831 - val_binary_accuracy: 0.8900\n",
      "Epoch 5/20\n",
      "15000/15000 [==============================] - 1s 47us/step - loss: 0.1363 - binary_accuracy: 0.9533 - val_loss: 0.2903 - val_binary_accuracy: 0.8863\n",
      "Epoch 6/20\n",
      "15000/15000 [==============================] - 1s 48us/step - loss: 0.1071 - binary_accuracy: 0.9647 - val_loss: 0.3139 - val_binary_accuracy: 0.8834\n",
      "Epoch 7/20\n",
      "15000/15000 [==============================] - 1s 48us/step - loss: 0.0812 - binary_accuracy: 0.9761 - val_loss: 0.4389 - val_binary_accuracy: 0.8646\n",
      "Epoch 8/20\n",
      "15000/15000 [==============================] - 1s 47us/step - loss: 0.0730 - binary_accuracy: 0.9779 - val_loss: 0.3665 - val_binary_accuracy: 0.8815\n",
      "Epoch 9/20\n",
      "15000/15000 [==============================] - 1s 48us/step - loss: 0.0555 - binary_accuracy: 0.9851 - val_loss: 0.4111 - val_binary_accuracy: 0.8777\n",
      "Epoch 10/20\n",
      "15000/15000 [==============================] - 1s 47us/step - loss: 0.0456 - binary_accuracy: 0.9883 - val_loss: 0.4400 - val_binary_accuracy: 0.8768\n",
      "Epoch 11/20\n",
      "15000/15000 [==============================] - 1s 48us/step - loss: 0.0401 - binary_accuracy: 0.9887 - val_loss: 0.4749 - val_binary_accuracy: 0.8685\n",
      "Epoch 12/20\n",
      "15000/15000 [==============================] - 1s 48us/step - loss: 0.0278 - binary_accuracy: 0.9936 - val_loss: 0.5938 - val_binary_accuracy: 0.8499\n",
      "Epoch 13/20\n",
      "15000/15000 [==============================] - 1s 47us/step - loss: 0.0176 - binary_accuracy: 0.9971 - val_loss: 0.5454 - val_binary_accuracy: 0.8732\n",
      "Epoch 14/20\n",
      "15000/15000 [==============================] - 1s 47us/step - loss: 0.0206 - binary_accuracy: 0.9949 - val_loss: 0.5751 - val_binary_accuracy: 0.8668\n",
      "Epoch 15/20\n",
      "15000/15000 [==============================] - 1s 48us/step - loss: 0.0178 - binary_accuracy: 0.9957 - val_loss: 0.6228 - val_binary_accuracy: 0.8615\n",
      "Epoch 16/20\n",
      "15000/15000 [==============================] - 1s 48us/step - loss: 0.0061 - binary_accuracy: 0.9997 - val_loss: 0.6787 - val_binary_accuracy: 0.8564\n",
      "Epoch 17/20\n",
      "15000/15000 [==============================] - 1s 48us/step - loss: 0.0152 - binary_accuracy: 0.9957 - val_loss: 0.6921 - val_binary_accuracy: 0.8664\n",
      "Epoch 18/20\n",
      "15000/15000 [==============================] - 1s 48us/step - loss: 0.0031 - binary_accuracy: 0.9998 - val_loss: 0.7310 - val_binary_accuracy: 0.8595\n",
      "Epoch 19/20\n",
      "15000/15000 [==============================] - 1s 47us/step - loss: 0.0127 - binary_accuracy: 0.9961 - val_loss: 0.7545 - val_binary_accuracy: 0.8662\n",
      "Epoch 20/20\n",
      "15000/15000 [==============================] - 1s 48us/step - loss: 0.0016 - binary_accuracy: 0.9999 - val_loss: 0.7848 - val_binary_accuracy: 0.8650\n"
     ]
    },
    {
     "data": {
      "image/png": "[encoded data removed]",
      "text/plain": [
       "<matplotlib.figure.Figure at 0x7ff1bdb4eda0>"
      ]
     },
     "metadata": {},
     "output_type": "display_data"
    },
    {
     "data": {
      "image/png": "[encoded data removed]",
      "text/plain": [
       "<matplotlib.figure.Figure at 0x7ff1c22ad128>"
      ]
     },
     "metadata": {},
     "output_type": "display_data"
    }
   ],
   "source": [
    "model = models.Sequential()\n",
    "model.add(layers.Dense(16, activation='relu', input_shape=(10000,)))\n",
    "model.add(layers.Dense(16, activation='relu'))\n",
    "model.add(layers.Dense(16, activation='relu'))\n",
    "model.add(layers.Dense(1, activation='sigmoid'))\n",
    "model.compile(optimizer=optimizers.RMSprop(lr=0.001),\n",
    "              loss=losses.binary_crossentropy,\n",
    "              metrics=[metrics.binary_accuracy])\n",
    "history = model.fit(partial_x_train,\n",
    "                    partial_y_train,\n",
    "                    epochs=20,\n",
    "                    batch_size=512,\n",
    "                    validation_data=(x_val, y_val))\n",
    "history_dict = history.history\n",
    "acc = history.history['binary_accuracy']\n",
    "val_acc = history.history['val_binary_accuracy']\n",
    "loss = history.history['loss']\n",
    "val_loss = history.history['val_loss']\n",
    "\n",
    "epochs = range(1, len(acc) + 1)\n",
    "\n",
    "# \"bo\" is for \"blue dot\"\n",
    "plt.plot(epochs, loss, 'bo', label='Training loss')\n",
    "# b is for \"solid blue line\"\n",
    "plt.plot(epochs, val_loss, 'b', label='Validation loss')\n",
    "plt.title('Training and validation loss')\n",
    "plt.xlabel('Epochs')\n",
    "plt.ylabel('Loss')\n",
    "plt.legend()\n",
    "plt.show()\n",
    "\n",
    "acc_values = history_dict['binary_accuracy']\n",
    "val_acc_values = history_dict['val_binary_accuracy']\n",
    "\n",
    "plt.plot(epochs, acc, 'bo', label='Training acc')\n",
    "plt.plot(epochs, val_acc, 'b', label='Validation acc')\n",
    "plt.title('Training and validation accuracy')\n",
    "plt.xlabel('Epochs')\n",
    "plt.ylabel('Loss')\n",
    "plt.legend()\n",
    "plt.show()"
   ]
  },
  {
   "cell_type": "markdown",
   "metadata": {},
   "source": [
    "### Try to use layers with more hidden units or less hidden units: 32 units, 64 units..."
   ]
  },
  {
   "cell_type": "markdown",
   "metadata": {},
   "source": [
    "#### more hidden units"
   ]
  },
  {
   "cell_type": "code",
   "execution_count": 54,
   "metadata": {},
   "outputs": [
    {
     "name": "stdout",
     "output_type": "stream",
     "text": [
      "Train on 15000 samples, validate on 10000 samples\n",
      "Epoch 1/20\n",
      "15000/15000 [==============================] - 2s 103us/step - loss: 0.4851 - binary_accuracy: 0.7771 - val_loss: 0.3925 - val_binary_accuracy: 0.8324\n",
      "Epoch 2/20\n",
      "15000/15000 [==============================] - 1s 83us/step - loss: 0.2652 - binary_accuracy: 0.8989 - val_loss: 0.3476 - val_binary_accuracy: 0.8599\n",
      "Epoch 3/20\n",
      "15000/15000 [==============================] - 1s 83us/step - loss: 0.1898 - binary_accuracy: 0.9309 - val_loss: 0.2882 - val_binary_accuracy: 0.8868\n",
      "Epoch 4/20\n",
      "15000/15000 [==============================] - 1s 83us/step - loss: 0.1342 - binary_accuracy: 0.9517 - val_loss: 0.3431 - val_binary_accuracy: 0.8724\n",
      "Epoch 5/20\n",
      "15000/15000 [==============================] - 1s 83us/step - loss: 0.1142 - binary_accuracy: 0.9577 - val_loss: 0.3429 - val_binary_accuracy: 0.8762\n",
      "Epoch 6/20\n",
      "15000/15000 [==============================] - 1s 83us/step - loss: 0.0743 - binary_accuracy: 0.9772 - val_loss: 0.3481 - val_binary_accuracy: 0.8839\n",
      "Epoch 7/20\n",
      "15000/15000 [==============================] - 1s 83us/step - loss: 0.0617 - binary_accuracy: 0.9808 - val_loss: 0.3770 - val_binary_accuracy: 0.8815\n",
      "Epoch 8/20\n",
      "15000/15000 [==============================] - 1s 83us/step - loss: 0.0398 - binary_accuracy: 0.9892 - val_loss: 0.4173 - val_binary_accuracy: 0.8741\n",
      "Epoch 9/20\n",
      "15000/15000 [==============================] - 1s 83us/step - loss: 0.0153 - binary_accuracy: 0.9978 - val_loss: 0.4652 - val_binary_accuracy: 0.8789\n",
      "Epoch 10/20\n",
      "15000/15000 [==============================] - 1s 83us/step - loss: 0.0378 - binary_accuracy: 0.9894 - val_loss: 0.4971 - val_binary_accuracy: 0.8770\n",
      "Epoch 11/20\n",
      "15000/15000 [==============================] - 1s 83us/step - loss: 0.0052 - binary_accuracy: 0.9997 - val_loss: 0.5494 - val_binary_accuracy: 0.8760\n",
      "Epoch 12/20\n",
      "15000/15000 [==============================] - 1s 84us/step - loss: 0.0386 - binary_accuracy: 0.9899 - val_loss: 0.5848 - val_binary_accuracy: 0.8742\n",
      "Epoch 13/20\n",
      "15000/15000 [==============================] - 1s 83us/step - loss: 0.0020 - binary_accuracy: 0.9999 - val_loss: 0.6192 - val_binary_accuracy: 0.8736\n",
      "Epoch 14/20\n",
      "15000/15000 [==============================] - 1s 83us/step - loss: 0.0014 - binary_accuracy: 0.9999 - val_loss: 0.6756 - val_binary_accuracy: 0.8702\n",
      "Epoch 15/20\n",
      "15000/15000 [==============================] - 1s 86us/step - loss: 0.0285 - binary_accuracy: 0.9919 - val_loss: 0.6945 - val_binary_accuracy: 0.8720\n",
      "Epoch 16/20\n",
      "15000/15000 [==============================] - 1s 83us/step - loss: 6.6598e-04 - binary_accuracy: 0.9999 - val_loss: 0.7212 - val_binary_accuracy: 0.8713\n",
      "Epoch 17/20\n",
      "15000/15000 [==============================] - 1s 83us/step - loss: 4.5294e-04 - binary_accuracy: 0.9999 - val_loss: 0.7657 - val_binary_accuracy: 0.8708\n",
      "Epoch 18/20\n",
      "15000/15000 [==============================] - 1s 83us/step - loss: 2.6513e-04 - binary_accuracy: 1.0000 - val_loss: 0.8631 - val_binary_accuracy: 0.8679\n",
      "Epoch 19/20\n",
      "15000/15000 [==============================] - 1s 83us/step - loss: 0.0342 - binary_accuracy: 0.9931 - val_loss: 0.8549 - val_binary_accuracy: 0.8696\n",
      "Epoch 20/20\n",
      "15000/15000 [==============================] - 1s 84us/step - loss: 1.4973e-04 - binary_accuracy: 1.0000 - val_loss: 0.8670 - val_binary_accuracy: 0.8704\n"
     ]
    },
    {
     "data": {
      "image/png": "[encoded data removed]",
      "text/plain": [
       "<matplotlib.figure.Figure at 0x7ff1bcd5e128>"
      ]
     },
     "metadata": {},
     "output_type": "display_data"
    },
    {
     "data": {
      "image/png": "[encoded data removed]",
      "text/plain": [
       "<matplotlib.figure.Figure at 0x7ff1bcb5c198>"
      ]
     },
     "metadata": {},
     "output_type": "display_data"
    }
   ],
   "source": [
    "model = models.Sequential()\n",
    "model.add(layers.Dense(64, activation='relu', input_shape=(10000,)))\n",
    "model.add(layers.Dense(64, activation='relu'))\n",
    "model.add(layers.Dense(1, activation='sigmoid'))\n",
    "model.compile(optimizer=optimizers.RMSprop(lr=0.001),\n",
    "              loss=losses.binary_crossentropy,\n",
    "              metrics=[metrics.binary_accuracy])\n",
    "history = model.fit(partial_x_train,\n",
    "                    partial_y_train,\n",
    "                    epochs=20,\n",
    "                    batch_size=512,\n",
    "                    validation_data=(x_val, y_val))\n",
    "history_dict = history.history\n",
    "acc = history.history['binary_accuracy']\n",
    "val_acc = history.history['val_binary_accuracy']\n",
    "loss = history.history['loss']\n",
    "val_loss = history.history['val_loss']\n",
    "\n",
    "epochs = range(1, len(acc) + 1)\n",
    "\n",
    "# \"bo\" is for \"blue dot\"\n",
    "plt.plot(epochs, loss, 'bo', label='Training loss')\n",
    "# b is for \"solid blue line\"\n",
    "plt.plot(epochs, val_loss, 'b', label='Validation loss')\n",
    "plt.title('Training and validation loss')\n",
    "plt.xlabel('Epochs')\n",
    "plt.ylabel('Loss')\n",
    "plt.legend()\n",
    "plt.show()\n",
    "\n",
    "acc_values = history_dict['binary_accuracy']\n",
    "val_acc_values = history_dict['val_binary_accuracy']\n",
    "\n",
    "plt.plot(epochs, acc, 'bo', label='Training acc')\n",
    "plt.plot(epochs, val_acc, 'b', label='Validation acc')\n",
    "plt.title('Training and validation accuracy')\n",
    "plt.xlabel('Epochs')\n",
    "plt.ylabel('Loss')\n",
    "plt.legend()\n",
    "plt.show()"
   ]
  },
  {
   "cell_type": "markdown",
   "metadata": {},
   "source": [
    "#### less hidden units"
   ]
  },
  {
   "cell_type": "code",
   "execution_count": 55,
   "metadata": {},
   "outputs": [
    {
     "name": "stdout",
     "output_type": "stream",
     "text": [
      "Train on 15000 samples, validate on 10000 samples\n",
      "Epoch 1/20\n",
      "15000/15000 [==============================] - 1s 64us/step - loss: 0.5665 - binary_accuracy: 0.7771 - val_loss: 0.4579 - val_binary_accuracy: 0.8637\n",
      "Epoch 2/20\n",
      "15000/15000 [==============================] - 1s 43us/step - loss: 0.3809 - binary_accuracy: 0.8931 - val_loss: 0.3613 - val_binary_accuracy: 0.8774\n",
      "Epoch 3/20\n",
      "15000/15000 [==============================] - 1s 44us/step - loss: 0.2850 - binary_accuracy: 0.9185 - val_loss: 0.3065 - val_binary_accuracy: 0.8901\n",
      "Epoch 4/20\n",
      "15000/15000 [==============================] - 1s 43us/step - loss: 0.2264 - binary_accuracy: 0.9323 - val_loss: 0.2877 - val_binary_accuracy: 0.8914\n",
      "Epoch 5/20\n",
      "15000/15000 [==============================] - 1s 44us/step - loss: 0.1883 - binary_accuracy: 0.9435 - val_loss: 0.2768 - val_binary_accuracy: 0.8872\n",
      "Epoch 6/20\n",
      "15000/15000 [==============================] - 1s 44us/step - loss: 0.1574 - binary_accuracy: 0.9537 - val_loss: 0.2801 - val_binary_accuracy: 0.8896\n",
      "Epoch 7/20\n",
      "15000/15000 [==============================] - 1s 43us/step - loss: 0.1353 - binary_accuracy: 0.9596 - val_loss: 0.2888 - val_binary_accuracy: 0.8855\n",
      "Epoch 8/20\n",
      "15000/15000 [==============================] - 1s 43us/step - loss: 0.1162 - binary_accuracy: 0.9667 - val_loss: 0.3109 - val_binary_accuracy: 0.8788\n",
      "Epoch 9/20\n",
      "15000/15000 [==============================] - 1s 44us/step - loss: 0.1000 - binary_accuracy: 0.9729 - val_loss: 0.3060 - val_binary_accuracy: 0.8834\n",
      "Epoch 10/20\n",
      "15000/15000 [==============================] - 1s 43us/step - loss: 0.0872 - binary_accuracy: 0.9765 - val_loss: 0.3163 - val_binary_accuracy: 0.8809\n",
      "Epoch 11/20\n",
      "15000/15000 [==============================] - 1s 44us/step - loss: 0.0735 - binary_accuracy: 0.9813 - val_loss: 0.3332 - val_binary_accuracy: 0.8782\n",
      "Epoch 12/20\n",
      "15000/15000 [==============================] - 1s 43us/step - loss: 0.0645 - binary_accuracy: 0.9853 - val_loss: 0.3507 - val_binary_accuracy: 0.8819\n",
      "Epoch 13/20\n",
      "15000/15000 [==============================] - 1s 43us/step - loss: 0.0548 - binary_accuracy: 0.9873 - val_loss: 0.3728 - val_binary_accuracy: 0.8760\n",
      "Epoch 14/20\n",
      "15000/15000 [==============================] - 1s 43us/step - loss: 0.0463 - binary_accuracy: 0.9907 - val_loss: 0.3890 - val_binary_accuracy: 0.8770\n",
      "Epoch 15/20\n",
      "15000/15000 [==============================] - 1s 44us/step - loss: 0.0390 - binary_accuracy: 0.9924 - val_loss: 0.4260 - val_binary_accuracy: 0.8713\n",
      "Epoch 16/20\n",
      "15000/15000 [==============================] - 1s 44us/step - loss: 0.0323 - binary_accuracy: 0.9937 - val_loss: 0.4374 - val_binary_accuracy: 0.8744\n",
      "Epoch 17/20\n",
      "15000/15000 [==============================] - 1s 43us/step - loss: 0.0269 - binary_accuracy: 0.9951 - val_loss: 0.4637 - val_binary_accuracy: 0.8726\n",
      "Epoch 18/20\n",
      "15000/15000 [==============================] - 1s 44us/step - loss: 0.0215 - binary_accuracy: 0.9969 - val_loss: 0.4920 - val_binary_accuracy: 0.8707\n",
      "Epoch 19/20\n",
      "15000/15000 [==============================] - 1s 44us/step - loss: 0.0171 - binary_accuracy: 0.9982 - val_loss: 0.5197 - val_binary_accuracy: 0.8689\n",
      "Epoch 20/20\n",
      "15000/15000 [==============================] - 1s 44us/step - loss: 0.0145 - binary_accuracy: 0.9982 - val_loss: 0.5751 - val_binary_accuracy: 0.8667\n"
     ]
    },
    {
     "data": {
      "image/png": "[encoded data removed]",
      "text/plain": [
       "<matplotlib.figure.Figure at 0x7ff1c16da940>"
      ]
     },
     "metadata": {},
     "output_type": "display_data"
    },
    {
     "data": {
      "image/png": "[encoded data removed]",
      "text/plain": [
       "<matplotlib.figure.Figure at 0x7ff1bcc43748>"
      ]
     },
     "metadata": {},
     "output_type": "display_data"
    }
   ],
   "source": [
    "model = models.Sequential()\n",
    "model.add(layers.Dense(8, activation='relu', input_shape=(10000,)))\n",
    "model.add(layers.Dense(8, activation='relu'))\n",
    "model.add(layers.Dense(1, activation='sigmoid'))\n",
    "model.compile(optimizer=optimizers.RMSprop(lr=0.001),\n",
    "              loss=losses.binary_crossentropy,\n",
    "              metrics=[metrics.binary_accuracy])\n",
    "history = model.fit(partial_x_train,\n",
    "                    partial_y_train,\n",
    "                    epochs=20,\n",
    "                    batch_size=512,\n",
    "                    validation_data=(x_val, y_val))\n",
    "history_dict = history.history\n",
    "acc = history.history['binary_accuracy']\n",
    "val_acc = history.history['val_binary_accuracy']\n",
    "loss = history.history['loss']\n",
    "val_loss = history.history['val_loss']\n",
    "\n",
    "epochs = range(1, len(acc) + 1)\n",
    "\n",
    "# \"bo\" is for \"blue dot\"\n",
    "plt.plot(epochs, loss, 'bo', label='Training loss')\n",
    "# b is for \"solid blue line\"\n",
    "plt.plot(epochs, val_loss, 'b', label='Validation loss')\n",
    "plt.title('Training and validation loss')\n",
    "plt.xlabel('Epochs')\n",
    "plt.ylabel('Loss')\n",
    "plt.legend()\n",
    "plt.show()\n",
    "\n",
    "acc_values = history_dict['binary_accuracy']\n",
    "val_acc_values = history_dict['val_binary_accuracy']\n",
    "\n",
    "plt.plot(epochs, acc, 'bo', label='Training acc')\n",
    "plt.plot(epochs, val_acc, 'b', label='Validation acc')\n",
    "plt.title('Training and validation accuracy')\n",
    "plt.xlabel('Epochs')\n",
    "plt.ylabel('Loss')\n",
    "plt.legend()\n",
    "plt.show()"
   ]
  },
  {
   "cell_type": "markdown",
   "metadata": {},
   "source": [
    "### Try to use the `mse` loss function instead of `binary_crossentropy`."
   ]
  },
  {
   "cell_type": "code",
   "execution_count": 56,
   "metadata": {},
   "outputs": [
    {
     "name": "stdout",
     "output_type": "stream",
     "text": [
      "Train on 15000 samples, validate on 10000 samples\n",
      "Epoch 1/20\n",
      "15000/15000 [==============================] - 1s 66us/step - loss: 0.1772 - binary_accuracy: 0.7865 - val_loss: 0.1272 - val_binary_accuracy: 0.8712\n",
      "Epoch 2/20\n",
      "15000/15000 [==============================] - 1s 47us/step - loss: 0.0978 - binary_accuracy: 0.9032 - val_loss: 0.0977 - val_binary_accuracy: 0.8845\n",
      "Epoch 3/20\n",
      "15000/15000 [==============================] - 1s 47us/step - loss: 0.0690 - binary_accuracy: 0.9275 - val_loss: 0.0878 - val_binary_accuracy: 0.8875\n",
      "Epoch 4/20\n",
      "15000/15000 [==============================] - 1s 47us/step - loss: 0.0527 - binary_accuracy: 0.9454 - val_loss: 0.0830 - val_binary_accuracy: 0.8908\n",
      "Epoch 5/20\n",
      "15000/15000 [==============================] - 1s 50us/step - loss: 0.0433 - binary_accuracy: 0.9547 - val_loss: 0.0821 - val_binary_accuracy: 0.8897\n",
      "Epoch 6/20\n",
      "15000/15000 [==============================] - 1s 47us/step - loss: 0.0349 - binary_accuracy: 0.9648 - val_loss: 0.0893 - val_binary_accuracy: 0.8787\n",
      "Epoch 7/20\n",
      "15000/15000 [==============================] - 1s 48us/step - loss: 0.0288 - binary_accuracy: 0.9723 - val_loss: 0.0845 - val_binary_accuracy: 0.8844\n",
      "Epoch 8/20\n",
      "15000/15000 [==============================] - 1s 47us/step - loss: 0.0246 - binary_accuracy: 0.9759 - val_loss: 0.0869 - val_binary_accuracy: 0.8809\n",
      "Epoch 9/20\n",
      "15000/15000 [==============================] - 1s 48us/step - loss: 0.0203 - binary_accuracy: 0.9823 - val_loss: 0.0883 - val_binary_accuracy: 0.8816\n",
      "Epoch 10/20\n",
      "15000/15000 [==============================] - 1s 47us/step - loss: 0.0171 - binary_accuracy: 0.9846 - val_loss: 0.0912 - val_binary_accuracy: 0.8795\n",
      "Epoch 11/20\n",
      "15000/15000 [==============================] - 1s 47us/step - loss: 0.0134 - binary_accuracy: 0.9891 - val_loss: 0.0936 - val_binary_accuracy: 0.8769\n",
      "Epoch 12/20\n",
      "15000/15000 [==============================] - 1s 47us/step - loss: 0.0116 - binary_accuracy: 0.9902 - val_loss: 0.0947 - val_binary_accuracy: 0.8771\n",
      "Epoch 13/20\n",
      "15000/15000 [==============================] - 1s 47us/step - loss: 0.0099 - binary_accuracy: 0.9923 - val_loss: 0.0968 - val_binary_accuracy: 0.8763\n",
      "Epoch 14/20\n",
      "15000/15000 [==============================] - 1s 47us/step - loss: 0.0088 - binary_accuracy: 0.9931 - val_loss: 0.0987 - val_binary_accuracy: 0.8724\n",
      "Epoch 15/20\n",
      "15000/15000 [==============================] - 1s 48us/step - loss: 0.0063 - binary_accuracy: 0.9953 - val_loss: 0.1079 - val_binary_accuracy: 0.8658\n",
      "Epoch 16/20\n",
      "15000/15000 [==============================] - 1s 47us/step - loss: 0.0056 - binary_accuracy: 0.9961 - val_loss: 0.1032 - val_binary_accuracy: 0.8694\n",
      "Epoch 17/20\n",
      "15000/15000 [==============================] - 1s 47us/step - loss: 0.0058 - binary_accuracy: 0.9954 - val_loss: 0.1044 - val_binary_accuracy: 0.8690\n",
      "Epoch 18/20\n",
      "15000/15000 [==============================] - 1s 47us/step - loss: 0.0053 - binary_accuracy: 0.9959 - val_loss: 0.1057 - val_binary_accuracy: 0.8696\n",
      "Epoch 19/20\n",
      "15000/15000 [==============================] - 1s 48us/step - loss: 0.0040 - binary_accuracy: 0.9969 - val_loss: 0.1073 - val_binary_accuracy: 0.8682\n",
      "Epoch 20/20\n",
      "15000/15000 [==============================] - 1s 48us/step - loss: 0.0039 - binary_accuracy: 0.9967 - val_loss: 0.1093 - val_binary_accuracy: 0.8663\n"
     ]
    },
    {
     "data": {
      "image/png": "[encoded data removed]",
      "text/plain": [
       "<matplotlib.figure.Figure at 0x7ff1baacb1d0>"
      ]
     },
     "metadata": {},
     "output_type": "display_data"
    },
    {
     "data": {
      "image/png": "[encoded data removed]",
      "text/plain": [
       "<matplotlib.figure.Figure at 0x7ff1ba84f320>"
      ]
     },
     "metadata": {},
     "output_type": "display_data"
    }
   ],
   "source": [
    "model = models.Sequential()\n",
    "model.add(layers.Dense(16, activation='relu', input_shape=(10000,)))\n",
    "model.add(layers.Dense(16, activation='relu'))\n",
    "model.add(layers.Dense(1, activation='sigmoid'))\n",
    "model.compile(optimizer=optimizers.RMSprop(lr=0.001),\n",
    "              loss=losses.mse,\n",
    "              metrics=[metrics.binary_accuracy])\n",
    "history = model.fit(partial_x_train,\n",
    "                    partial_y_train,\n",
    "                    epochs=20,\n",
    "                    batch_size=512,\n",
    "                    validation_data=(x_val, y_val))\n",
    "history_dict = history.history\n",
    "acc = history.history['binary_accuracy']\n",
    "val_acc = history.history['val_binary_accuracy']\n",
    "loss = history.history['loss']\n",
    "val_loss = history.history['val_loss']\n",
    "\n",
    "epochs = range(1, len(acc) + 1)\n",
    "\n",
    "# \"bo\" is for \"blue dot\"\n",
    "plt.plot(epochs, loss, 'bo', label='Training loss')\n",
    "# b is for \"solid blue line\"\n",
    "plt.plot(epochs, val_loss, 'b', label='Validation loss')\n",
    "plt.title('Training and validation loss')\n",
    "plt.xlabel('Epochs')\n",
    "plt.ylabel('Loss')\n",
    "plt.legend()\n",
    "plt.show()\n",
    "\n",
    "acc_values = history_dict['binary_accuracy']\n",
    "val_acc_values = history_dict['val_binary_accuracy']\n",
    "\n",
    "plt.plot(epochs, acc, 'bo', label='Training acc')\n",
    "plt.plot(epochs, val_acc, 'b', label='Validation acc')\n",
    "plt.title('Training and validation accuracy')\n",
    "plt.xlabel('Epochs')\n",
    "plt.ylabel('Loss')\n",
    "plt.legend()\n",
    "plt.show()"
   ]
  },
  {
   "cell_type": "markdown",
   "metadata": {},
   "source": [
    "### Try to use the `tanh` activation (an activation that was popular in the early days of neural networks) instead of `relu`."
   ]
  },
  {
   "cell_type": "code",
   "execution_count": 58,
   "metadata": {},
   "outputs": [
    {
     "name": "stdout",
     "output_type": "stream",
     "text": [
      "Train on 15000 samples, validate on 10000 samples\n",
      "Epoch 1/20\n",
      "15000/15000 [==============================] - 1s 69us/step - loss: 0.4826 - binary_accuracy: 0.7945 - val_loss: 0.3522 - val_binary_accuracy: 0.8752\n",
      "Epoch 2/20\n",
      "15000/15000 [==============================] - 1s 48us/step - loss: 0.2720 - binary_accuracy: 0.9057 - val_loss: 0.3347 - val_binary_accuracy: 0.8573\n",
      "Epoch 3/20\n",
      "15000/15000 [==============================] - 1s 48us/step - loss: 0.1923 - binary_accuracy: 0.9349 - val_loss: 0.3123 - val_binary_accuracy: 0.8718\n",
      "Epoch 4/20\n",
      "15000/15000 [==============================] - 1s 49us/step - loss: 0.1474 - binary_accuracy: 0.9499 - val_loss: 0.2813 - val_binary_accuracy: 0.8888\n",
      "Epoch 5/20\n",
      "15000/15000 [==============================] - 1s 49us/step - loss: 0.1100 - binary_accuracy: 0.9635 - val_loss: 0.3117 - val_binary_accuracy: 0.8808\n",
      "Epoch 6/20\n",
      "15000/15000 [==============================] - 1s 48us/step - loss: 0.0868 - binary_accuracy: 0.9732 - val_loss: 0.3430 - val_binary_accuracy: 0.8818\n",
      "Epoch 7/20\n",
      "15000/15000 [==============================] - 1s 47us/step - loss: 0.0740 - binary_accuracy: 0.9753 - val_loss: 0.3827 - val_binary_accuracy: 0.8782\n",
      "Epoch 8/20\n",
      "15000/15000 [==============================] - 1s 48us/step - loss: 0.0524 - binary_accuracy: 0.9837 - val_loss: 0.5618 - val_binary_accuracy: 0.8476\n",
      "Epoch 9/20\n",
      "15000/15000 [==============================] - 1s 48us/step - loss: 0.0347 - binary_accuracy: 0.9912 - val_loss: 0.4723 - val_binary_accuracy: 0.8719\n",
      "Epoch 10/20\n",
      "15000/15000 [==============================] - 1s 47us/step - loss: 0.0294 - binary_accuracy: 0.9915 - val_loss: 0.5324 - val_binary_accuracy: 0.8626\n",
      "Epoch 11/20\n",
      "15000/15000 [==============================] - 1s 47us/step - loss: 0.0313 - binary_accuracy: 0.9904 - val_loss: 0.5404 - val_binary_accuracy: 0.8690\n",
      "Epoch 12/20\n",
      "15000/15000 [==============================] - 1s 48us/step - loss: 0.0283 - binary_accuracy: 0.9923 - val_loss: 0.5829 - val_binary_accuracy: 0.8665\n",
      "Epoch 13/20\n",
      "15000/15000 [==============================] - 1s 48us/step - loss: 0.0071 - binary_accuracy: 0.9994 - val_loss: 0.6051 - val_binary_accuracy: 0.8658\n",
      "Epoch 14/20\n",
      "15000/15000 [==============================] - 1s 47us/step - loss: 0.0286 - binary_accuracy: 0.9923 - val_loss: 0.6463 - val_binary_accuracy: 0.8653\n",
      "Epoch 15/20\n",
      "15000/15000 [==============================] - 1s 47us/step - loss: 0.0037 - binary_accuracy: 0.9997 - val_loss: 0.6645 - val_binary_accuracy: 0.8648\n",
      "Epoch 16/20\n",
      "15000/15000 [==============================] - 1s 48us/step - loss: 0.0027 - binary_accuracy: 0.9998 - val_loss: 0.7593 - val_binary_accuracy: 0.8550\n",
      "Epoch 17/20\n",
      "15000/15000 [==============================] - 1s 48us/step - loss: 0.0155 - binary_accuracy: 0.9951 - val_loss: 0.7238 - val_binary_accuracy: 0.8625\n",
      "Epoch 18/20\n",
      "15000/15000 [==============================] - 1s 47us/step - loss: 0.0011 - binary_accuracy: 1.0000 - val_loss: 0.7714 - val_binary_accuracy: 0.8622\n",
      "Epoch 19/20\n",
      "15000/15000 [==============================] - 1s 47us/step - loss: 0.0141 - binary_accuracy: 0.9955 - val_loss: 0.8054 - val_binary_accuracy: 0.8610\n",
      "Epoch 20/20\n",
      "15000/15000 [==============================] - 1s 47us/step - loss: 5.8437e-04 - binary_accuracy: 1.0000 - val_loss: 0.8262 - val_binary_accuracy: 0.8602\n"
     ]
    },
    {
     "data": {
      "image/png": "[encoded data removed]",
      "text/plain": [
       "<matplotlib.figure.Figure at 0x7ff1ba698f28>"
      ]
     },
     "metadata": {},
     "output_type": "display_data"
    },
    {
     "data": {
      "image/png": "[encoded data removed]",
      "text/plain": [
       "<matplotlib.figure.Figure at 0x7ff1ba8653c8>"
      ]
     },
     "metadata": {},
     "output_type": "display_data"
    }
   ],
   "source": [
    "model = models.Sequential()\n",
    "model.add(layers.Dense(16, activation='tanh', input_shape=(10000,)))\n",
    "model.add(layers.Dense(16, activation='tanh'))\n",
    "model.add(layers.Dense(1, activation='sigmoid'))\n",
    "model.compile(optimizer=optimizers.RMSprop(lr=0.001),\n",
    "              loss=losses.binary_crossentropy,\n",
    "              metrics=[metrics.binary_accuracy])\n",
    "history = model.fit(partial_x_train,\n",
    "                    partial_y_train,\n",
    "                    epochs=20,\n",
    "                    batch_size=512,\n",
    "                    validation_data=(x_val, y_val))\n",
    "history_dict = history.history\n",
    "acc = history.history['binary_accuracy']\n",
    "val_acc = history.history['val_binary_accuracy']\n",
    "loss = history.history['loss']\n",
    "val_loss = history.history['val_loss']\n",
    "\n",
    "epochs = range(1, len(acc) + 1)\n",
    "\n",
    "# \"bo\" is for \"blue dot\"\n",
    "plt.plot(epochs, loss, 'bo', label='Training loss')\n",
    "# b is for \"solid blue line\"\n",
    "plt.plot(epochs, val_loss, 'b', label='Validation loss')\n",
    "plt.title('Training and validation loss')\n",
    "plt.xlabel('Epochs')\n",
    "plt.ylabel('Loss')\n",
    "plt.legend()\n",
    "plt.show()\n",
    "\n",
    "acc_values = history_dict['binary_accuracy']\n",
    "val_acc_values = history_dict['val_binary_accuracy']\n",
    "\n",
    "plt.plot(epochs, acc, 'bo', label='Training acc')\n",
    "plt.plot(epochs, val_acc, 'b', label='Validation acc')\n",
    "plt.title('Training and validation accuracy')\n",
    "plt.xlabel('Epochs')\n",
    "plt.ylabel('Loss')\n",
    "plt.legend()\n",
    "plt.show()"
   ]
  },
  {
   "cell_type": "markdown",
   "metadata": {},
   "source": [
    "## Conclusions\n",
    "\n",
    "\n",
    "Here's what you should take away from this example:\n",
    "\n",
    "* There's usually quite a bit of preprocessing you need to do on your raw data in order to be able to feed it -- as tensors -- into a neural \n",
    "network. In the case of sequences of words, they can be encoded as binary vectors -- but there are other encoding options too.\n",
    "* Stacks of `Dense` layers with `relu` activations can solve a wide range of problems (including sentiment classification), and you will \n",
    "likely use them frequently.\n",
    "* In a binary classification problem (two output classes), your network should end with a `Dense` layer with 1 unit and a `sigmoid` activation, \n",
    "i.e. the output of your network should be a scalar between 0 and 1, encoding a probability.\n",
    "* With such a scalar sigmoid output, on a binary classification problem, the loss function you should use is `binary_crossentropy`.\n",
    "* The `rmsprop` optimizer is generally a good enough choice of optimizer, whatever your problem. That's one less thing for you to worry \n",
    "about.\n",
    "* As they get better on their training data, neural networks eventually start _overfitting_ and end up obtaining increasingly worse results on data \n",
    "never-seen-before. Make sure to always monitor performance on data that is outside of the training set.\n"
   ]
  },
  {
   "cell_type": "code",
   "execution_count": null,
   "metadata": {
    "collapsed": true
   },
   "outputs": [],
   "source": []
  }
 ],
 "metadata": {
  "kernelspec": {
   "display_name": "Python 3",
   "language": "python",
   "name": "python3"
  },
  "language_info": {
   "codemirror_mode": {
    "name": "ipython",
    "version": 3
   },
   "file_extension": ".py",
   "mimetype": "text/x-python",
   "name": "python",
   "nbconvert_exporter": "python",
   "pygments_lexer": "ipython3",
   "version": "3.6.1"
  },
  "toc": {
   "nav_menu": {},
   "number_sections": true,
   "sideBar": true,
   "skip_h1_title": false,
   "toc_cell": false,
   "toc_position": {},
   "toc_section_display": "block",
   "toc_window_display": false
  }
 },
 "nbformat": 4,
 "nbformat_minor": 2
}
