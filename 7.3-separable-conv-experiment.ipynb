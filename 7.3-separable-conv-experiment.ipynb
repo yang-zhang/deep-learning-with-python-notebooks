{
 "cells": [
  {
   "cell_type": "code",
   "execution_count": 1,
   "metadata": {
    "scrolled": true
   },
   "outputs": [
    {
     "name": "stderr",
     "output_type": "stream",
     "text": [
      "Using TensorFlow backend.\n"
     ]
    },
    {
     "name": "stdout",
     "output_type": "stream",
     "text": [
      "WARNING:tensorflow:From /opt/conda/lib/python3.6/site-packages/keras/backend/tensorflow_backend.py:1349: calling reduce_mean (from tensorflow.python.ops.math_ops) with keep_dims is deprecated and will be removed in a future version.\n",
      "Instructions for updating:\n",
      "keep_dims is deprecated, use keepdims instead\n",
      "WARNING:tensorflow:From /opt/conda/lib/python3.6/site-packages/keras/backend/tensorflow_backend.py:2885: calling reduce_sum (from tensorflow.python.ops.math_ops) with keep_dims is deprecated and will be removed in a future version.\n",
      "Instructions for updating:\n",
      "keep_dims is deprecated, use keepdims instead\n"
     ]
    }
   ],
   "source": [
    "from keras.models import Sequential, Model \n",
    "from keras import layers\n",
    "\n",
    "import utils_ds\n",
    "\n",
    "height = 64\n",
    "width = 64\n",
    "channels = 3\n",
    "num_classes = 10\n",
    "\n",
    "model = Sequential()\n",
    "model.add(layers.SeparableConv2D(32, 3, \n",
    "                                activation='relu',\n",
    "                                input_shape=(height, width, channels)))\n",
    "model.add(layers.SeparableConv2D(64, 3, activation='relu')) \n",
    "model.add(layers.MaxPooling2D(2))\n",
    "model.add(layers.SeparableConv2D(64, 3, activation='relu')) \n",
    "model.add(layers.SeparableConv2D(128, 3, activation='relu')) \n",
    "model.add(layers.MaxPooling2D(2))\n",
    "model.add(layers.SeparableConv2D(64, 3, activation='relu')) \n",
    "model.add(layers.SeparableConv2D(128, 3, activation='relu')) \n",
    "model.add(layers.GlobalAveragePooling2D())\n",
    "\n",
    "model.add(layers.Dense(32, activation='relu')) \n",
    "model.add(layers.Dense(num_classes, activation='softmax'))\n",
    "model.compile(optimizer='rmsprop', loss='categorical_crossentropy')"
   ]
  },
  {
   "cell_type": "code",
   "execution_count": 2,
   "metadata": {
    "scrolled": false
   },
   "outputs": [
    {
     "name": "stdout",
     "output_type": "stream",
     "text": [
      "_________________________________________________________________\n",
      "Layer (type)                 Output Shape              Param #   \n",
      "=================================================================\n",
      "separable_conv2d_1 (Separabl (None, 62, 62, 32)        155       \n",
      "_________________________________________________________________\n",
      "separable_conv2d_2 (Separabl (None, 60, 60, 64)        2400      \n",
      "_________________________________________________________________\n",
      "max_pooling2d_1 (MaxPooling2 (None, 30, 30, 64)        0         \n",
      "_________________________________________________________________\n",
      "separable_conv2d_3 (Separabl (None, 28, 28, 64)        4736      \n",
      "_________________________________________________________________\n",
      "separable_conv2d_4 (Separabl (None, 26, 26, 128)       8896      \n",
      "_________________________________________________________________\n",
      "max_pooling2d_2 (MaxPooling2 (None, 13, 13, 128)       0         \n",
      "_________________________________________________________________\n",
      "separable_conv2d_5 (Separabl (None, 11, 11, 64)        9408      \n",
      "_________________________________________________________________\n",
      "separable_conv2d_6 (Separabl (None, 9, 9, 128)         8896      \n",
      "_________________________________________________________________\n",
      "global_average_pooling2d_1 ( (None, 128)               0         \n",
      "_________________________________________________________________\n",
      "dense_1 (Dense)              (None, 32)                4128      \n",
      "_________________________________________________________________\n",
      "dense_2 (Dense)              (None, 10)                330       \n",
      "=================================================================\n",
      "Total params: 38,949\n",
      "Trainable params: 38,949\n",
      "Non-trainable params: 0\n",
      "_________________________________________________________________\n"
     ]
    }
   ],
   "source": [
    "model.summary()"
   ]
  },
  {
   "cell_type": "code",
   "execution_count": 3,
   "metadata": {
    "scrolled": false
   },
   "outputs": [
    {
     "name": "stdout",
     "output_type": "stream",
     "text": [
      "layer: separable_conv2d_1\n",
      "input_shape: (None, 64, 64, 3)\n",
      "output_shape: (None, 62, 62, 32)\n",
      "shape of weights:\n",
      "(3, 3, 3, 1)\n",
      "-------------\n",
      "(1, 1, 3, 32)\n",
      "-------------\n",
      "(32,)\n",
      "-------------\n",
      "layer: separable_conv2d_2\n",
      "input_shape: (None, 62, 62, 32)\n",
      "output_shape: (None, 60, 60, 64)\n",
      "shape of weights:\n",
      "(3, 3, 32, 1)\n",
      "-------------\n",
      "(1, 1, 32, 64)\n",
      "-------------\n",
      "(64,)\n",
      "-------------\n",
      "layer: max_pooling2d_1\n",
      "input_shape: (None, 60, 60, 64)\n",
      "output_shape: (None, 30, 30, 64)\n",
      "shape of weights:\n",
      "layer: separable_conv2d_3\n",
      "input_shape: (None, 30, 30, 64)\n",
      "output_shape: (None, 28, 28, 64)\n",
      "shape of weights:\n",
      "(3, 3, 64, 1)\n",
      "-------------\n",
      "(1, 1, 64, 64)\n",
      "-------------\n",
      "(64,)\n",
      "-------------\n",
      "layer: separable_conv2d_4\n",
      "input_shape: (None, 28, 28, 64)\n",
      "output_shape: (None, 26, 26, 128)\n",
      "shape of weights:\n",
      "(3, 3, 64, 1)\n",
      "-------------\n",
      "(1, 1, 64, 128)\n",
      "-------------\n",
      "(128,)\n",
      "-------------\n",
      "layer: max_pooling2d_2\n",
      "input_shape: (None, 26, 26, 128)\n",
      "output_shape: (None, 13, 13, 128)\n",
      "shape of weights:\n",
      "layer: separable_conv2d_5\n",
      "input_shape: (None, 13, 13, 128)\n",
      "output_shape: (None, 11, 11, 64)\n",
      "shape of weights:\n",
      "(3, 3, 128, 1)\n",
      "-------------\n",
      "(1, 1, 128, 64)\n",
      "-------------\n",
      "(64,)\n",
      "-------------\n",
      "layer: separable_conv2d_6\n",
      "input_shape: (None, 11, 11, 64)\n",
      "output_shape: (None, 9, 9, 128)\n",
      "shape of weights:\n",
      "(3, 3, 64, 1)\n",
      "-------------\n",
      "(1, 1, 64, 128)\n",
      "-------------\n",
      "(128,)\n",
      "-------------\n",
      "layer: global_average_pooling2d_1\n",
      "input_shape: (None, 9, 9, 128)\n",
      "output_shape: (None, 128)\n",
      "shape of weights:\n",
      "layer: dense_1\n",
      "input_shape: (None, 128)\n",
      "output_shape: (None, 32)\n",
      "shape of weights:\n",
      "(128, 32)\n",
      "-------------\n",
      "(32,)\n",
      "-------------\n",
      "layer: dense_2\n",
      "input_shape: (None, 32)\n",
      "output_shape: (None, 10)\n",
      "shape of weights:\n",
      "(32, 10)\n",
      "-------------\n",
      "(10,)\n",
      "-------------\n"
     ]
    }
   ],
   "source": [
    "utils_ds.print_weights_shape(model)"
   ]
  },
  {
   "cell_type": "code",
   "execution_count": null,
   "metadata": {
    "collapsed": true
   },
   "outputs": [],
   "source": []
  }
 ],
 "metadata": {
  "kernelspec": {
   "display_name": "Python 3",
   "language": "python",
   "name": "python3"
  },
  "language_info": {
   "codemirror_mode": {
    "name": "ipython",
    "version": 3
   },
   "file_extension": ".py",
   "mimetype": "text/x-python",
   "name": "python",
   "nbconvert_exporter": "python",
   "pygments_lexer": "ipython3",
   "version": "3.6.1"
  },
  "toc": {
   "nav_menu": {},
   "number_sections": true,
   "sideBar": true,
   "skip_h1_title": false,
   "toc_cell": false,
   "toc_position": {},
   "toc_section_display": "block",
   "toc_window_display": false
  }
 },
 "nbformat": 4,
 "nbformat_minor": 2
}
